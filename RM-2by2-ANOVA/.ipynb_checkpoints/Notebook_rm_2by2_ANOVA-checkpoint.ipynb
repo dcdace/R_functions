{
 "cells": [
  {
   "cell_type": "markdown",
   "metadata": {
    "toc": true
   },
   "source": [
    "<h1>Table of Contents<span class=\"tocSkip\"></span></h1>\n",
    "<div class=\"toc\"><ul class=\"toc-item\"><li><span><a href=\"#Example-1:-Using-rm_2by2_anova-function\" data-toc-modified-id=\"Example-1:-Using-rm_2by2_anova-function-1\"><span class=\"toc-item-num\">1&nbsp;&nbsp;</span>Example 1: Using rm_2by2_anova function</a></span><ul class=\"toc-item\"><li><span><a href=\"#Load-the-function\" data-toc-modified-id=\"Load-the-function-1.1\"><span class=\"toc-item-num\">1.1&nbsp;&nbsp;</span>Load the function</a></span></li><li><span><a href=\"#Load-example-data\" data-toc-modified-id=\"Load-example-data-1.2\"><span class=\"toc-item-num\">1.2&nbsp;&nbsp;</span>Load example data</a></span></li><li><span><a href=\"#Input-data-for-the-function\" data-toc-modified-id=\"Input-data-for-the-function-1.3\"><span class=\"toc-item-num\">1.3&nbsp;&nbsp;</span>Input data for the function</a></span></li><li><span><a href=\"#Run-the-function\" data-toc-modified-id=\"Run-the-function-1.4\"><span class=\"toc-item-num\">1.4&nbsp;&nbsp;</span>Run the function</a></span></li><li><span><a href=\"#Assumption-check-plots\" data-toc-modified-id=\"Assumption-check-plots-1.5\"><span class=\"toc-item-num\">1.5&nbsp;&nbsp;</span>Assumption check plots</a></span></li><li><span><a href=\"#Results-plot\" data-toc-modified-id=\"Results-plot-1.6\"><span class=\"toc-item-num\">1.6&nbsp;&nbsp;</span>Results plot</a></span><ul class=\"toc-item\"><li><span><a href=\"#Basic-plot\" data-toc-modified-id=\"Basic-plot-1.6.1\"><span class=\"toc-item-num\">1.6.1&nbsp;&nbsp;</span>Basic plot</a></span></li><li><span><a href=\"#Add-some-extra-stuff-to-the-plot\" data-toc-modified-id=\"Add-some-extra-stuff-to-the-plot-1.6.2\"><span class=\"toc-item-num\">1.6.2&nbsp;&nbsp;</span>Add some extra stuff to the plot</a></span></li></ul></li></ul></li><li><span><a href=\"#Example-2:-Step-by-step-example\" data-toc-modified-id=\"Example-2:-Step-by-step-example-2\"><span class=\"toc-item-num\">2&nbsp;&nbsp;</span>Example 2: Step-by-step example</a></span><ul class=\"toc-item\"><li><span><a href=\"#Specify-parameters\" data-toc-modified-id=\"Specify-parameters-2.1\"><span class=\"toc-item-num\">2.1&nbsp;&nbsp;</span>Specify parameters</a></span></li><li><span><a href=\"#Prepare-the-dataset\" data-toc-modified-id=\"Prepare-the-dataset-2.2\"><span class=\"toc-item-num\">2.2&nbsp;&nbsp;</span>Prepare the dataset</a></span></li><li><span><a href=\"#Check-assumptions\" data-toc-modified-id=\"Check-assumptions-2.3\"><span class=\"toc-item-num\">2.3&nbsp;&nbsp;</span>Check assumptions</a></span><ul class=\"toc-item\"><li><span><a href=\"#Outliers\" data-toc-modified-id=\"Outliers-2.3.1\"><span class=\"toc-item-num\">2.3.1&nbsp;&nbsp;</span>Outliers</a></span></li><li><span><a href=\"#Normality\" data-toc-modified-id=\"Normality-2.3.2\"><span class=\"toc-item-num\">2.3.2&nbsp;&nbsp;</span>Normality</a></span></li><li><span><a href=\"#Boxplot-and-QQ-plots\" data-toc-modified-id=\"Boxplot-and-QQ-plots-2.3.3\"><span class=\"toc-item-num\">2.3.3&nbsp;&nbsp;</span>Boxplot and QQ plots</a></span></li></ul></li><li><span><a href=\"#Descriptive-summary\" data-toc-modified-id=\"Descriptive-summary-2.4\"><span class=\"toc-item-num\">2.4&nbsp;&nbsp;</span>Descriptive summary</a></span></li><li><span><a href=\"#2-x-2-ANOVA-results\" data-toc-modified-id=\"2-x-2-ANOVA-results-2.5\"><span class=\"toc-item-num\">2.5&nbsp;&nbsp;</span>2 x 2 ANOVA results</a></span><ul class=\"toc-item\"><li><span><a href=\"#2-way-interaction\" data-toc-modified-id=\"2-way-interaction-2.5.1\"><span class=\"toc-item-num\">2.5.1&nbsp;&nbsp;</span>2-way interaction</a></span></li><li><span><a href=\"#Main-Effects-of-Factor-1\" data-toc-modified-id=\"Main-Effects-of-Factor-1-2.5.2\"><span class=\"toc-item-num\">2.5.2&nbsp;&nbsp;</span>Main Effects of Factor 1</a></span></li><li><span><a href=\"#Main-Effects-of-Factor-2\" data-toc-modified-id=\"Main-Effects-of-Factor-2-2.5.3\"><span class=\"toc-item-num\">2.5.3&nbsp;&nbsp;</span>Main Effects of Factor 2</a></span></li><li><span><a href=\"#Main-Effect-of-Factor-2\" data-toc-modified-id=\"Main-Effect-of-Factor-2-2.5.4\"><span class=\"toc-item-num\">2.5.4&nbsp;&nbsp;</span>Main Effect of Factor 2</a></span></li></ul></li><li><span><a href=\"#Post-hoc-tests\" data-toc-modified-id=\"Post-hoc-tests-2.6\"><span class=\"toc-item-num\">2.6&nbsp;&nbsp;</span>Post-hoc tests</a></span></li><li><span><a href=\"#Plot-the-results\" data-toc-modified-id=\"Plot-the-results-2.7\"><span class=\"toc-item-num\">2.7&nbsp;&nbsp;</span>Plot the results</a></span><ul class=\"toc-item\"><li><span><a href=\"#Preparing-titles-and-annotations\" data-toc-modified-id=\"Preparing-titles-and-annotations-2.7.1\"><span class=\"toc-item-num\">2.7.1&nbsp;&nbsp;</span>Preparing titles and annotations</a></span></li><li><span><a href=\"#The-plotting-function\" data-toc-modified-id=\"The-plotting-function-2.7.2\"><span class=\"toc-item-num\">2.7.2&nbsp;&nbsp;</span>The plotting function</a></span></li><li><span><a href=\"#Add-additional-items-to-the-plot-and-display-the-plot\" data-toc-modified-id=\"Add-additional-items-to-the-plot-and-display-the-plot-2.7.3\"><span class=\"toc-item-num\">2.7.3&nbsp;&nbsp;</span>Add additional items to the plot and display the plot</a></span></li></ul></li></ul></li><li><span><a href=\"#Example-3:-Test-on-another-dataset\" data-toc-modified-id=\"Example-3:-Test-on-another-dataset-3\"><span class=\"toc-item-num\">3&nbsp;&nbsp;</span>Example 3: Test on another dataset</a></span><ul class=\"toc-item\"><li><span><a href=\"#Load-the-data\" data-toc-modified-id=\"Load-the-data-3.1\"><span class=\"toc-item-num\">3.1&nbsp;&nbsp;</span>Load the data</a></span></li><li><span><a href=\"#Specify-parameters\" data-toc-modified-id=\"Specify-parameters-3.2\"><span class=\"toc-item-num\">3.2&nbsp;&nbsp;</span>Specify parameters</a></span></li><li><span><a href=\"#Run-the-function\" data-toc-modified-id=\"Run-the-function-3.3\"><span class=\"toc-item-num\">3.3&nbsp;&nbsp;</span>Run the function</a></span></li><li><span><a href=\"#Assumption-check-plots\" data-toc-modified-id=\"Assumption-check-plots-3.4\"><span class=\"toc-item-num\">3.4&nbsp;&nbsp;</span>Assumption check plots</a></span></li><li><span><a href=\"#Results-plot-(with-extras)\" data-toc-modified-id=\"Results-plot-(with-extras)-3.5\"><span class=\"toc-item-num\">3.5&nbsp;&nbsp;</span>Results plot (with extras)</a></span></li></ul></li><li><span><a href=\"#Example-4:-Test-on-another-dataset\" data-toc-modified-id=\"Example-4:-Test-on-another-dataset-4\"><span class=\"toc-item-num\">4&nbsp;&nbsp;</span>Example 4: Test on another dataset</a></span><ul class=\"toc-item\"><li><span><a href=\"#Load-the-data\" data-toc-modified-id=\"Load-the-data-4.1\"><span class=\"toc-item-num\">4.1&nbsp;&nbsp;</span>Load the data</a></span></li><li><span><a href=\"#Specify-parameters\" data-toc-modified-id=\"Specify-parameters-4.2\"><span class=\"toc-item-num\">4.2&nbsp;&nbsp;</span>Specify parameters</a></span></li><li><span><a href=\"#Run-the-function\" data-toc-modified-id=\"Run-the-function-4.3\"><span class=\"toc-item-num\">4.3&nbsp;&nbsp;</span>Run the function</a></span></li><li><span><a href=\"#Assumption-check-plots\" data-toc-modified-id=\"Assumption-check-plots-4.4\"><span class=\"toc-item-num\">4.4&nbsp;&nbsp;</span>Assumption check plots</a></span></li><li><span><a href=\"#Results-plot-(with-extras)\" data-toc-modified-id=\"Results-plot-(with-extras)-4.5\"><span class=\"toc-item-num\">4.5&nbsp;&nbsp;</span>Results plot (with extras)</a></span></li></ul></li><li><span><a href=\"#Control-what-to-display\" data-toc-modified-id=\"Control-what-to-display-5\"><span class=\"toc-item-num\">5&nbsp;&nbsp;</span>Control what to display</a></span><ul class=\"toc-item\"><li><span><a href=\"#The-'hush'-function\" data-toc-modified-id=\"The-'hush'-function-5.1\"><span class=\"toc-item-num\">5.1&nbsp;&nbsp;</span>The 'hush' function</a></span></li><li><span><a href=\"#Run-the-function-without-any-output\" data-toc-modified-id=\"Run-the-function-without-any-output-5.2\"><span class=\"toc-item-num\">5.2&nbsp;&nbsp;</span>Run the function without any output</a></span></li><li><span><a href=\"#Choose-what-to-output\" data-toc-modified-id=\"Choose-what-to-output-5.3\"><span class=\"toc-item-num\">5.3&nbsp;&nbsp;</span>Choose what to output</a></span></li></ul></li></ul></div>"
   ]
  },
  {
   "cell_type": "markdown",
   "metadata": {},
   "source": [
    "# 2x2 Repeated Measures ANOVA"
   ]
  },
  {
   "cell_type": "code",
   "execution_count": 1,
   "metadata": {},
   "outputs": [],
   "source": [
    "# Dace Apšvalka, 2020, www.dcdace.net\n",
    "# ----------------------------------------------------------------------\n",
    "# LIBRARIES\n",
    "# ----------------------------------------------------------------------\n",
    "shhh <- suppressPackageStartupMessages # It's a library, so shhh!\n",
    "\n",
    "shhh(suppressWarnings(library(psycho)))    # to get the Emotion dataset for the example"
   ]
  },
  {
   "cell_type": "markdown",
   "metadata": {},
   "source": [
    "## Example 1: Using rm_2by2_anova function"
   ]
  },
  {
   "cell_type": "markdown",
   "metadata": {},
   "source": [
    "### Load the function"
   ]
  },
  {
   "cell_type": "code",
   "execution_count": 37,
   "metadata": {},
   "outputs": [],
   "source": [
    "source(\"https://raw.githubusercontent.com/dcdace/R_functions/main/RM-2by2-ANOVA/rm_2by2_anova.R\")"
   ]
  },
  {
   "cell_type": "markdown",
   "metadata": {},
   "source": [
    "### Load example data"
   ]
  },
  {
   "cell_type": "code",
   "execution_count": 3,
   "metadata": {},
   "outputs": [
    {
     "data": {
      "text/html": [
       "<table class=\"dataframe\">\n",
       "<caption>A data.frame: 6 × 11</caption>\n",
       "<thead>\n",
       "\t<tr><th></th><th scope=col>Participant_ID</th><th scope=col>Participant_Age</th><th scope=col>Participant_Sex</th><th scope=col>Item_Category</th><th scope=col>Item_Name</th><th scope=col>Trial_Order</th><th scope=col>Emotion_Condition</th><th scope=col>Subjective_Arousal</th><th scope=col>Subjective_Valence</th><th scope=col>Autobiographical_Link</th><th scope=col>Recall</th></tr>\n",
       "\t<tr><th></th><th scope=col>&lt;fct&gt;</th><th scope=col>&lt;dbl&gt;</th><th scope=col>&lt;fct&gt;</th><th scope=col>&lt;fct&gt;</th><th scope=col>&lt;fct&gt;</th><th scope=col>&lt;dbl&gt;</th><th scope=col>&lt;fct&gt;</th><th scope=col>&lt;dbl&gt;</th><th scope=col>&lt;dbl&gt;</th><th scope=col>&lt;dbl&gt;</th><th scope=col>&lt;lgl&gt;</th></tr>\n",
       "</thead>\n",
       "<tbody>\n",
       "\t<tr><th scope=row>1</th><td>1S</td><td>18.38467</td><td>Female</td><td>People</td><td>People_158_h</td><td>1</td><td>Neutral</td><td>12.239583</td><td> 0.5208333</td><td>63.281250</td><td> TRUE</td></tr>\n",
       "\t<tr><th scope=row>2</th><td>1S</td><td>18.38467</td><td>Female</td><td>Faces </td><td>Faces_045_h </td><td>2</td><td>Neutral</td><td>16.406250</td><td> 4.1666667</td><td>22.135417</td><td>FALSE</td></tr>\n",
       "\t<tr><th scope=row>3</th><td>1S</td><td>18.38467</td><td>Female</td><td>People</td><td>People_138_h</td><td>3</td><td>Neutral</td><td>25.520833</td><td>25.5208333</td><td>55.989583</td><td> TRUE</td></tr>\n",
       "\t<tr><th scope=row>4</th><td>1S</td><td>18.38467</td><td>Female</td><td>People</td><td>People_148_h</td><td>4</td><td>Neutral</td><td> 0.000000</td><td> 0.0000000</td><td>44.791667</td><td>FALSE</td></tr>\n",
       "\t<tr><th scope=row>5</th><td>1S</td><td>18.38467</td><td>Female</td><td>Faces </td><td>Faces_315_h </td><td>5</td><td>Neutral</td><td>25.781250</td><td>45.8333333</td><td>30.208333</td><td>FALSE</td></tr>\n",
       "\t<tr><th scope=row>6</th><td>1S</td><td>18.38467</td><td>Female</td><td>Faces </td><td>Faces_224_h </td><td>6</td><td>Neutral</td><td> 2.604167</td><td> 0.0000000</td><td> 8.072917</td><td>FALSE</td></tr>\n",
       "</tbody>\n",
       "</table>\n"
      ],
      "text/latex": [
       "A data.frame: 6 × 11\n",
       "\\begin{tabular}{r|lllllllllll}\n",
       "  & Participant\\_ID & Participant\\_Age & Participant\\_Sex & Item\\_Category & Item\\_Name & Trial\\_Order & Emotion\\_Condition & Subjective\\_Arousal & Subjective\\_Valence & Autobiographical\\_Link & Recall\\\\\n",
       "  & <fct> & <dbl> & <fct> & <fct> & <fct> & <dbl> & <fct> & <dbl> & <dbl> & <dbl> & <lgl>\\\\\n",
       "\\hline\n",
       "\t1 & 1S & 18.38467 & Female & People & People\\_158\\_h & 1 & Neutral & 12.239583 &  0.5208333 & 63.281250 &  TRUE\\\\\n",
       "\t2 & 1S & 18.38467 & Female & Faces  & Faces\\_045\\_h  & 2 & Neutral & 16.406250 &  4.1666667 & 22.135417 & FALSE\\\\\n",
       "\t3 & 1S & 18.38467 & Female & People & People\\_138\\_h & 3 & Neutral & 25.520833 & 25.5208333 & 55.989583 &  TRUE\\\\\n",
       "\t4 & 1S & 18.38467 & Female & People & People\\_148\\_h & 4 & Neutral &  0.000000 &  0.0000000 & 44.791667 & FALSE\\\\\n",
       "\t5 & 1S & 18.38467 & Female & Faces  & Faces\\_315\\_h  & 5 & Neutral & 25.781250 & 45.8333333 & 30.208333 & FALSE\\\\\n",
       "\t6 & 1S & 18.38467 & Female & Faces  & Faces\\_224\\_h  & 6 & Neutral &  2.604167 &  0.0000000 &  8.072917 & FALSE\\\\\n",
       "\\end{tabular}\n"
      ],
      "text/markdown": [
       "\n",
       "A data.frame: 6 × 11\n",
       "\n",
       "| <!--/--> | Participant_ID &lt;fct&gt; | Participant_Age &lt;dbl&gt; | Participant_Sex &lt;fct&gt; | Item_Category &lt;fct&gt; | Item_Name &lt;fct&gt; | Trial_Order &lt;dbl&gt; | Emotion_Condition &lt;fct&gt; | Subjective_Arousal &lt;dbl&gt; | Subjective_Valence &lt;dbl&gt; | Autobiographical_Link &lt;dbl&gt; | Recall &lt;lgl&gt; |\n",
       "|---|---|---|---|---|---|---|---|---|---|---|---|\n",
       "| 1 | 1S | 18.38467 | Female | People | People_158_h | 1 | Neutral | 12.239583 |  0.5208333 | 63.281250 |  TRUE |\n",
       "| 2 | 1S | 18.38467 | Female | Faces  | Faces_045_h  | 2 | Neutral | 16.406250 |  4.1666667 | 22.135417 | FALSE |\n",
       "| 3 | 1S | 18.38467 | Female | People | People_138_h | 3 | Neutral | 25.520833 | 25.5208333 | 55.989583 |  TRUE |\n",
       "| 4 | 1S | 18.38467 | Female | People | People_148_h | 4 | Neutral |  0.000000 |  0.0000000 | 44.791667 | FALSE |\n",
       "| 5 | 1S | 18.38467 | Female | Faces  | Faces_315_h  | 5 | Neutral | 25.781250 | 45.8333333 | 30.208333 | FALSE |\n",
       "| 6 | 1S | 18.38467 | Female | Faces  | Faces_224_h  | 6 | Neutral |  2.604167 |  0.0000000 |  8.072917 | FALSE |\n",
       "\n"
      ],
      "text/plain": [
       "  Participant_ID Participant_Age Participant_Sex Item_Category Item_Name   \n",
       "1 1S             18.38467        Female          People        People_158_h\n",
       "2 1S             18.38467        Female          Faces         Faces_045_h \n",
       "3 1S             18.38467        Female          People        People_138_h\n",
       "4 1S             18.38467        Female          People        People_148_h\n",
       "5 1S             18.38467        Female          Faces         Faces_315_h \n",
       "6 1S             18.38467        Female          Faces         Faces_224_h \n",
       "  Trial_Order Emotion_Condition Subjective_Arousal Subjective_Valence\n",
       "1 1           Neutral           12.239583           0.5208333        \n",
       "2 2           Neutral           16.406250           4.1666667        \n",
       "3 3           Neutral           25.520833          25.5208333        \n",
       "4 4           Neutral            0.000000           0.0000000        \n",
       "5 5           Neutral           25.781250          45.8333333        \n",
       "6 6           Neutral            2.604167           0.0000000        \n",
       "  Autobiographical_Link Recall\n",
       "1 63.281250              TRUE \n",
       "2 22.135417             FALSE \n",
       "3 55.989583              TRUE \n",
       "4 44.791667             FALSE \n",
       "5 30.208333             FALSE \n",
       "6  8.072917             FALSE "
      ]
     },
     "metadata": {},
     "output_type": "display_data"
    }
   ],
   "source": [
    "# ----------------------------------------------------------------------\n",
    "# Get the data\n",
    "# ----------------------------------------------------------------------\n",
    "# As an example I use Emotion dataset from psycho package, https://github.com/neuropsychology/psycho.R\n",
    "\n",
    "# Get the dataset\n",
    "dataset <- psycho::emotion\n",
    "\n",
    "# See how it looks\n",
    "head(dataset)"
   ]
  },
  {
   "cell_type": "markdown",
   "metadata": {},
   "source": [
    "### Input data for the function"
   ]
  },
  {
   "cell_type": "code",
   "execution_count": 4,
   "metadata": {},
   "outputs": [],
   "source": [
    "# ----------------------------------------------------------------------\n",
    "# Specify items and parameters\n",
    "# ----------------------------------------------------------------------\n",
    "\n",
    "# From the dataset, specify subject ID, Dependent Variable, and 2 within-subject Factors \n",
    "columns <- list(\n",
    "  sID = \"Participant_ID\",     # subject ID\n",
    "  DV  = \"Subjective_Valence\", # dependent variable\n",
    "  Fc1 = \"Item_Category\",      # within-subj factor 1\n",
    "  Fc2 = \"Emotion_Condition\"   # within-subj factor 2\n",
    ")\n",
    "# Define plot label names, tilte, colors and what type of error bars to show on the plot\n",
    "param <- list(\n",
    "  y.label    = \"Subjective Valence\",\n",
    "  Fc1.label  = \"Item\",\n",
    "  Fc2.label  = \"Emotion\",\n",
    "  cat.color  = c('#DF4A56', '#5284a8'),\n",
    "  errorbar   = \"ci\"  # can be either sd, se, or ci\n",
    ")\n",
    "# the plot title\n",
    "param$title <- sprintf(\"%s x %s interaction\", param$Fc2.label, param$Fc1.label)"
   ]
  },
  {
   "cell_type": "markdown",
   "metadata": {},
   "source": [
    "### Run the function"
   ]
  },
  {
   "cell_type": "markdown",
   "metadata": {},
   "source": [
    "The function will output several result summaries. And it will also return a list of result variables including assumption plot (boxplots & QQ plot) and the interaction plot. "
   ]
  },
  {
   "cell_type": "code",
   "execution_count": 5,
   "metadata": {},
   "outputs": [
    {
     "name": "stdout",
     "output_type": "stream",
     "text": [
      "================================================================\n",
      "\n",
      "CHECK ASSUMPTIONS\n",
      "\n",
      "================================================================\n",
      " Outliers\n",
      "\n",
      "\u001b[90m# A tibble: 4 x 6\u001b[39m\n",
      "  Fc1    Fc2      sID   meanDV is.outlier is.extreme\n",
      "  \u001b[3m\u001b[90m<fct>\u001b[39m\u001b[23m  \u001b[3m\u001b[90m<fct>\u001b[39m\u001b[23m    \u001b[3m\u001b[90m<fct>\u001b[39m\u001b[23m  \u001b[3m\u001b[90m<dbl>\u001b[39m\u001b[23m \u001b[3m\u001b[90m<lgl>\u001b[39m\u001b[23m      \u001b[3m\u001b[90m<lgl>\u001b[39m\u001b[23m     \n",
      "\u001b[90m1\u001b[39m Faces  Negative 17S    -\u001b[31m1\u001b[39m\u001b[31m.\u001b[39m\u001b[31m91\u001b[39m TRUE       FALSE     \n",
      "\u001b[90m2\u001b[39m Faces  Neutral  9S     50.5  TRUE       FALSE     \n",
      "\u001b[90m3\u001b[39m People Negative 17S    -\u001b[31m1\u001b[39m\u001b[31m.\u001b[39m\u001b[31m17\u001b[39m TRUE       TRUE      \n",
      "\u001b[90m4\u001b[39m People Negative 9S    -\u001b[31m25\u001b[39m\u001b[31m.\u001b[39m\u001b[31m8\u001b[39m  TRUE       FALSE     \n",
      "\n",
      "Data has extreme outliers!\n",
      "\n",
      "-----------------------------------------------\n",
      " Normality \n",
      "\n",
      "\u001b[90m# A tibble: 4 x 5\u001b[39m\n",
      "  Fc1    Fc2      variable statistic       p\n",
      "  \u001b[3m\u001b[90m<fct>\u001b[39m\u001b[23m  \u001b[3m\u001b[90m<fct>\u001b[39m\u001b[23m    \u001b[3m\u001b[90m<chr>\u001b[39m\u001b[23m        \u001b[3m\u001b[90m<dbl>\u001b[39m\u001b[23m   \u001b[3m\u001b[90m<dbl>\u001b[39m\u001b[23m\n",
      "\u001b[90m1\u001b[39m Faces  Negative meanDV       0.928 0.159  \n",
      "\u001b[90m2\u001b[39m Faces  Neutral  meanDV       0.926 0.145  \n",
      "\u001b[90m3\u001b[39m People Negative meanDV       0.833 0.003\u001b[4m6\u001b[24m\u001b[4m4\u001b[24m\n",
      "\u001b[90m4\u001b[39m People Neutral  meanDV       0.947 0.351  \n",
      "\n",
      "Not all levels are normaly distributed!\n",
      "\n",
      "================================================================\n",
      "\n",
      "SUMMARY DESCRIPTIVES\n",
      "\n",
      "================================================================\n",
      "     Fc1      Fc2  N    meanDV       sd       se       ci\n",
      "1  Faces Negative 19 -52.75116 14.77499 3.389615 7.121317\n",
      "2  Faces  Neutral 19  17.62804 11.73257 2.691635 5.654916\n",
      "3 People Negative 19 -59.92947 13.65515 3.132706 6.581571\n",
      "4 People  Neutral 19  19.45238 15.63017 3.585806 7.533500\n",
      "\n",
      "================================================================\n",
      "\n",
      "2x2 INTERACTION RESULTS\n",
      "\n",
      "================================================================\n",
      "\n",
      "Error: sID\n",
      "          Df Sum Sq Mean Sq F value Pr(>F)\n",
      "Residuals 18   9623   534.6               \n",
      "\n",
      "Error: sID:Fc1\n",
      "          Df Sum Sq Mean Sq F value Pr(>F)\n",
      "Fc1        1  136.2  136.16   1.499  0.237\n",
      "Residuals 18 1634.6   90.81               \n",
      "\n",
      "Error: sID:Fc2\n",
      "          Df Sum Sq Mean Sq F value   Pr(>F)    \n",
      "Fc2        1 106535  106535   245.9 6.11e-12 ***\n",
      "Residuals 18   7798     433                     \n",
      "---\n",
      "Signif. codes:  0 '***' 0.001 '**' 0.01 '*' 0.05 '.' 0.1 ' ' 1\n",
      "\n",
      "Error: sID:Fc1:Fc2\n",
      "          Df Sum Sq Mean Sq F value Pr(>F)  \n",
      "Fc1:Fc2    1    385     385   5.831 0.0266 *\n",
      "Residuals 18   1188      66                 \n",
      "---\n",
      "Signif. codes:  0 '***' 0.001 '**' 0.01 '*' 0.05 '.' 0.1 ' ' 1\n",
      "\n",
      "Significant Emotion x Item interaction: F(1,18) = 5.83, p = 0.0266076\n",
      "\n",
      "================================================================\n",
      "\n",
      "Main Effects\n",
      "\n",
      "================================================================\n",
      "Main effect of Item: F(1,18) = 1.50, p = 0.2365520\n",
      "\n",
      "\n",
      "-----------------------------------------------\n",
      "Main effect of Emotion: F(1,18) = 245.92, p = 0.0000000\n",
      "\n",
      "================================================================\n",
      "\n",
      "Post-hoc\n",
      "\n",
      "================================================================\n",
      "\n",
      "Pairwise comparisons grouped by Factor 1\n",
      "\u001b[90m# A tibble: 2 x 11\u001b[39m\n",
      "  Fc1    .y.    group1   group2     n1    n2 statistic    df        p    p.adj\n",
      "\u001b[90m*\u001b[39m \u001b[3m\u001b[90m<fct>\u001b[39m\u001b[23m  \u001b[3m\u001b[90m<chr>\u001b[39m\u001b[23m  \u001b[3m\u001b[90m<chr>\u001b[39m\u001b[23m    \u001b[3m\u001b[90m<chr>\u001b[39m\u001b[23m   \u001b[3m\u001b[90m<int>\u001b[39m\u001b[23m \u001b[3m\u001b[90m<int>\u001b[39m\u001b[23m     \u001b[3m\u001b[90m<dbl>\u001b[39m\u001b[23m \u001b[3m\u001b[90m<dbl>\u001b[39m\u001b[23m    \u001b[3m\u001b[90m<dbl>\u001b[39m\u001b[23m    \u001b[3m\u001b[90m<dbl>\u001b[39m\u001b[23m\n",
      "\u001b[90m1\u001b[39m Faces  meanDV Negative Neutral    19    19     -\u001b[31m14\u001b[39m\u001b[31m.\u001b[39m\u001b[31m6\u001b[39m    18 2.09\u001b[90me\u001b[39m\u001b[31m-11\u001b[39m 2.09\u001b[90me\u001b[39m\u001b[31m-11\u001b[39m\n",
      "\u001b[90m2\u001b[39m People meanDV Negative Neutral    19    19     -\u001b[31m14\u001b[39m\u001b[31m.\u001b[39m\u001b[31m7\u001b[39m    18 1.84\u001b[90me\u001b[39m\u001b[31m-11\u001b[39m 1.84\u001b[90me\u001b[39m\u001b[31m-11\u001b[39m\n",
      "\u001b[90m# ... with 1 more variable: p.adj.signif <chr>\u001b[39m\n",
      "\n",
      "\n",
      "-----------------------------------------------\n",
      "\n",
      "Pairwise comparisons grouped by Factor 2\n",
      "\u001b[90m# A tibble: 2 x 11\u001b[39m\n",
      "  Fc2   .y.   group1 group2    n1    n2 statistic    df     p p.adj p.adj.signif\n",
      "\u001b[90m*\u001b[39m \u001b[3m\u001b[90m<fct>\u001b[39m\u001b[23m \u001b[3m\u001b[90m<chr>\u001b[39m\u001b[23m \u001b[3m\u001b[90m<chr>\u001b[39m\u001b[23m  \u001b[3m\u001b[90m<chr>\u001b[39m\u001b[23m  \u001b[3m\u001b[90m<int>\u001b[39m\u001b[23m \u001b[3m\u001b[90m<int>\u001b[39m\u001b[23m     \u001b[3m\u001b[90m<dbl>\u001b[39m\u001b[23m \u001b[3m\u001b[90m<dbl>\u001b[39m\u001b[23m \u001b[3m\u001b[90m<dbl>\u001b[39m\u001b[23m \u001b[3m\u001b[90m<dbl>\u001b[39m\u001b[23m \u001b[3m\u001b[90m<chr>\u001b[39m\u001b[23m       \n",
      "\u001b[90m1\u001b[39m Nega~ mean~ Faces  People    19    19     2.37     18 0.029 0.029 *           \n",
      "\u001b[90m2\u001b[39m Neut~ mean~ Faces  People    19    19    -\u001b[31m0\u001b[39m\u001b[31m.\u001b[39m\u001b[31m673\u001b[39m    18 0.51  0.51  ns          \n"
     ]
    }
   ],
   "source": [
    "results <- rm_2by2_anova(dataset, columns, param)"
   ]
  },
  {
   "cell_type": "markdown",
   "metadata": {},
   "source": [
    "### Assumption check plots"
   ]
  },
  {
   "cell_type": "code",
   "execution_count": 6,
   "metadata": {},
   "outputs": [
    {
     "data": {
      "image/png": "[encoded data removed]",
      "text/plain": [
       "plot without title"
      ]
     },
     "metadata": {
      "image/png": {
       "height": 500,
       "width": 1000
      }
     },
     "output_type": "display_data"
    }
   ],
   "source": [
    "options(repr.plot.width = 10, repr.plot.height = 5, repr.plot.res = 200) # change plot size\n",
    "\n",
    "results$plot.assumption.checks"
   ]
  },
  {
   "cell_type": "markdown",
   "metadata": {},
   "source": [
    "### Results plot"
   ]
  },
  {
   "cell_type": "markdown",
   "metadata": {},
   "source": [
    "Error bars in the plot are within-subject 95% CIs."
   ]
  },
  {
   "cell_type": "markdown",
   "metadata": {},
   "source": [
    "#### Basic plot"
   ]
  },
  {
   "cell_type": "code",
   "execution_count": 7,
   "metadata": {},
   "outputs": [
    {
     "data": {
      "image/png": "[encoded data removed]",
      "text/plain": [
       "plot without title"
      ]
     },
     "metadata": {
      "image/png": {
       "height": 500,
       "width": 700
      }
     },
     "output_type": "display_data"
    }
   ],
   "source": [
    "options(repr.plot.width = 7, repr.plot.height = 5, repr.plot.res = 200) # change plot size\n",
    "results$plot.anova"
   ]
  },
  {
   "cell_type": "markdown",
   "metadata": {},
   "source": [
    "#### Add some extra stuff to the plot"
   ]
  },
  {
   "cell_type": "code",
   "execution_count": 8,
   "metadata": {},
   "outputs": [
    {
     "data": {
      "image/png": "[encoded data removed]",
      "text/plain": [
       "plot without title"
      ]
     },
     "metadata": {
      "image/png": {
       "height": 500,
       "width": 700
      }
     },
     "output_type": "display_data"
    }
   ],
   "source": [
    "#options(repr.plot.width = 7, repr.plot.height = 6, repr.plot.res = 200) # change plot size\n",
    "# Adding post-hoc comparison stars\n",
    "# Prepare the values\n",
    "\n",
    "# post-hoc pairwise comparisons for each Fc1 level between the Fc2 levels\n",
    "p.Fc1.L1 <-\n",
    "  ifelse(results$pwc1$p[1] < 0.05, stars.pval(results$pwc1$p[1]), \"n.s.\")\n",
    "p.Fc1.L2 <-\n",
    "  ifelse(results$pwc1$p[2] < 0.05, stars.pval(results$pwc1$p[2]), \"n.s.\")\n",
    "\n",
    "\n",
    "# add horizontal line BEHIND other elements\n",
    "results$plot.anova$layers <- c(geom_hline(aes(yintercept = 0), size = 0.1), # the new layer\n",
    "                               results$plot.anova$layers) # original layers\n",
    "\n",
    "# add other things\n",
    "results$plot.anova +\n",
    "  \n",
    "  # Add post-hoc pairwise comparisons\n",
    "  # might need to adjust the x and y positions\n",
    "  annotate(\n",
    "    \"text\",\n",
    "    x = 1.30,\n",
    "    y = mean(results$dataSummary$meanDV),\n",
    "    label = p.Fc1.L1,\n",
    "    color = param$cat.color[1],\n",
    "    size = 8\n",
    "  ) +\n",
    "  annotate(\n",
    "    \"text\",\n",
    "    x = 1.7,\n",
    "    y = mean(results$dataSummary$meanDV),\n",
    "    label = p.Fc1.L2,\n",
    "    color = param$cat.color[2],\n",
    "    size = 8\n",
    "  ) +\n",
    "  \n",
    "  # add individual datapoints\n",
    "  geom_point(\n",
    "    colour = \"black\",\n",
    "    alpha = .3,\n",
    "    aes(fill = Fc1),\n",
    "    size = 2,\n",
    "    stroke = 0.5,\n",
    "    shape = 21,\n",
    "    position = position_jitterdodge(),\n",
    "    show.legend = FALSE\n",
    "  )"
   ]
  },
  {
   "cell_type": "markdown",
   "metadata": {},
   "source": [
    "## Example 2: Step-by-step example"
   ]
  },
  {
   "cell_type": "markdown",
   "metadata": {},
   "source": [
    "Here the above function elements are executed ste-by-step (the function itself is not required). "
   ]
  },
  {
   "cell_type": "markdown",
   "metadata": {},
   "source": [
    "### Specify parameters"
   ]
  },
  {
   "cell_type": "code",
   "execution_count": 9,
   "metadata": {},
   "outputs": [],
   "source": [
    "# ----------------------------------------------------------------------\n",
    "# Specify items and parameters\n",
    "# ----------------------------------------------------------------------\n",
    "\n",
    "# From the dataset, specify subject ID, Dependent Variable, and 2 within-subject Factors \n",
    "columns <- list(\n",
    "  sID = \"Participant_ID\",     # subject ID\n",
    "  DV  = \"Subjective_Valence\", # dependent variable\n",
    "  Fc1 = \"Item_Category\",      # within-subj factor 1\n",
    "  Fc2 = \"Emotion_Condition\"   # within-subj factor 2\n",
    ")\n",
    "\n",
    "# Define plot label names, tilte, colors and what type of error bars to show on the plot\n",
    "param <- list(\n",
    "  y.label    = \"Subjective Valence\",\n",
    "  Fc1.label  = \"Item\",\n",
    "  Fc2.label  = \"Emotion\",\n",
    "  cat.color  = c('#DF4A56', '#5284a8'),\n",
    "  errorbar   = \"ci\"  # can be either sd, se, or ci\n",
    ")\n",
    "# the plot title\n",
    "param$title <- sprintf(\"%s x %s interaction\", param$Fc2.label, param$Fc1.label)"
   ]
  },
  {
   "cell_type": "markdown",
   "metadata": {},
   "source": [
    "### Prepare the dataset"
   ]
  },
  {
   "cell_type": "code",
   "execution_count": 10,
   "metadata": {},
   "outputs": [
    {
     "data": {
      "text/html": [
       "<table class=\"dataframe\">\n",
       "<caption>A data.frame: 6 × 4</caption>\n",
       "<thead>\n",
       "\t<tr><th></th><th scope=col>sID</th><th scope=col>Fc1</th><th scope=col>Fc2</th><th scope=col>meanDV</th></tr>\n",
       "\t<tr><th></th><th scope=col>&lt;fct&gt;</th><th scope=col>&lt;fct&gt;</th><th scope=col>&lt;fct&gt;</th><th scope=col>&lt;dbl&gt;</th></tr>\n",
       "</thead>\n",
       "<tbody>\n",
       "\t<tr><th scope=row>1</th><td>10S</td><td>Faces </td><td>Negative</td><td>-53.472222</td></tr>\n",
       "\t<tr><th scope=row>2</th><td>10S</td><td>Faces </td><td>Neutral </td><td> 32.508681</td></tr>\n",
       "\t<tr><th scope=row>3</th><td>10S</td><td>People</td><td>Negative</td><td>-62.673611</td></tr>\n",
       "\t<tr><th scope=row>4</th><td>10S</td><td>People</td><td>Neutral </td><td> 20.833333</td></tr>\n",
       "\t<tr><th scope=row>5</th><td>11S</td><td>Faces </td><td>Negative</td><td>-76.189605</td></tr>\n",
       "\t<tr><th scope=row>6</th><td>11S</td><td>Faces </td><td>Neutral </td><td>  8.388238</td></tr>\n",
       "</tbody>\n",
       "</table>\n"
      ],
      "text/latex": [
       "A data.frame: 6 × 4\n",
       "\\begin{tabular}{r|llll}\n",
       "  & sID & Fc1 & Fc2 & meanDV\\\\\n",
       "  & <fct> & <fct> & <fct> & <dbl>\\\\\n",
       "\\hline\n",
       "\t1 & 10S & Faces  & Negative & -53.472222\\\\\n",
       "\t2 & 10S & Faces  & Neutral  &  32.508681\\\\\n",
       "\t3 & 10S & People & Negative & -62.673611\\\\\n",
       "\t4 & 10S & People & Neutral  &  20.833333\\\\\n",
       "\t5 & 11S & Faces  & Negative & -76.189605\\\\\n",
       "\t6 & 11S & Faces  & Neutral  &   8.388238\\\\\n",
       "\\end{tabular}\n"
      ],
      "text/markdown": [
       "\n",
       "A data.frame: 6 × 4\n",
       "\n",
       "| <!--/--> | sID &lt;fct&gt; | Fc1 &lt;fct&gt; | Fc2 &lt;fct&gt; | meanDV &lt;dbl&gt; |\n",
       "|---|---|---|---|---|\n",
       "| 1 | 10S | Faces  | Negative | -53.472222 |\n",
       "| 2 | 10S | Faces  | Neutral  |  32.508681 |\n",
       "| 3 | 10S | People | Negative | -62.673611 |\n",
       "| 4 | 10S | People | Neutral  |  20.833333 |\n",
       "| 5 | 11S | Faces  | Negative | -76.189605 |\n",
       "| 6 | 11S | Faces  | Neutral  |   8.388238 |\n",
       "\n"
      ],
      "text/plain": [
       "  sID Fc1    Fc2      meanDV    \n",
       "1 10S Faces  Negative -53.472222\n",
       "2 10S Faces  Neutral   32.508681\n",
       "3 10S People Negative -62.673611\n",
       "4 10S People Neutral   20.833333\n",
       "5 11S Faces  Negative -76.189605\n",
       "6 11S Faces  Neutral    8.388238"
      ]
     },
     "metadata": {},
     "output_type": "display_data"
    }
   ],
   "source": [
    "# ----------------------------------------------------------------------\n",
    "# Prepare the working dataset\n",
    "# ----------------------------------------------------------------------\n",
    "# Subset the dataset to only the columns of interest\n",
    "# Because dplyr::select function clashes with MASS::select need to specify to use dplyr:: select\n",
    "data_subset <- dataset %>% dplyr::select(all_of(unlist(columns)))\n",
    "\n",
    "# Average same Factor/Level values for each subject if there are several. \n",
    "# Will use this data frame df for the rest of the results and plots\n",
    "df <- ddply(data_subset, .(sID, Fc1, Fc2), \n",
    "             summarise, meanDV = mean(DV, na.rm = TRUE))\n",
    "\n",
    "# sID, Fc1 and Fc2 must be factors (in case they are not already)\n",
    "df$sID <- as.factor(df$sID)\n",
    "df$Fc1 <- as.factor(df$Fc1)\n",
    "df$Fc2 <- as.factor(df$Fc2)\n",
    "\n",
    "# See how it looks\n",
    "head(df)"
   ]
  },
  {
   "cell_type": "markdown",
   "metadata": {},
   "source": [
    "### Check assumptions"
   ]
  },
  {
   "cell_type": "markdown",
   "metadata": {},
   "source": [
    "#### Outliers"
   ]
  },
  {
   "cell_type": "code",
   "execution_count": 11,
   "metadata": {},
   "outputs": [
    {
     "data": {
      "text/html": [
       "<table class=\"dataframe\">\n",
       "<caption>A tibble: 4 × 6</caption>\n",
       "<thead>\n",
       "\t<tr><th scope=col>Fc1</th><th scope=col>Fc2</th><th scope=col>sID</th><th scope=col>meanDV</th><th scope=col>is.outlier</th><th scope=col>is.extreme</th></tr>\n",
       "\t<tr><th scope=col>&lt;fct&gt;</th><th scope=col>&lt;fct&gt;</th><th scope=col>&lt;fct&gt;</th><th scope=col>&lt;dbl&gt;</th><th scope=col>&lt;lgl&gt;</th><th scope=col>&lt;lgl&gt;</th></tr>\n",
       "</thead>\n",
       "<tbody>\n",
       "\t<tr><td>Faces </td><td>Negative</td><td>17S</td><td> -1.909722</td><td>TRUE</td><td>FALSE</td></tr>\n",
       "\t<tr><td>Faces </td><td>Neutral </td><td>9S </td><td> 50.469741</td><td>TRUE</td><td>FALSE</td></tr>\n",
       "\t<tr><td>People</td><td>Negative</td><td>17S</td><td> -1.171875</td><td>TRUE</td><td> TRUE</td></tr>\n",
       "\t<tr><td>People</td><td>Negative</td><td>9S </td><td>-25.817472</td><td>TRUE</td><td>FALSE</td></tr>\n",
       "</tbody>\n",
       "</table>\n"
      ],
      "text/latex": [
       "A tibble: 4 × 6\n",
       "\\begin{tabular}{llllll}\n",
       " Fc1 & Fc2 & sID & meanDV & is.outlier & is.extreme\\\\\n",
       " <fct> & <fct> & <fct> & <dbl> & <lgl> & <lgl>\\\\\n",
       "\\hline\n",
       "\t Faces  & Negative & 17S &  -1.909722 & TRUE & FALSE\\\\\n",
       "\t Faces  & Neutral  & 9S  &  50.469741 & TRUE & FALSE\\\\\n",
       "\t People & Negative & 17S &  -1.171875 & TRUE &  TRUE\\\\\n",
       "\t People & Negative & 9S  & -25.817472 & TRUE & FALSE\\\\\n",
       "\\end{tabular}\n"
      ],
      "text/markdown": [
       "\n",
       "A tibble: 4 × 6\n",
       "\n",
       "| Fc1 &lt;fct&gt; | Fc2 &lt;fct&gt; | sID &lt;fct&gt; | meanDV &lt;dbl&gt; | is.outlier &lt;lgl&gt; | is.extreme &lt;lgl&gt; |\n",
       "|---|---|---|---|---|---|\n",
       "| Faces  | Negative | 17S |  -1.909722 | TRUE | FALSE |\n",
       "| Faces  | Neutral  | 9S  |  50.469741 | TRUE | FALSE |\n",
       "| People | Negative | 17S |  -1.171875 | TRUE |  TRUE |\n",
       "| People | Negative | 9S  | -25.817472 | TRUE | FALSE |\n",
       "\n"
      ],
      "text/plain": [
       "  Fc1    Fc2      sID meanDV     is.outlier is.extreme\n",
       "1 Faces  Negative 17S  -1.909722 TRUE       FALSE     \n",
       "2 Faces  Neutral  9S   50.469741 TRUE       FALSE     \n",
       "3 People Negative 17S  -1.171875 TRUE        TRUE     \n",
       "4 People Negative 9S  -25.817472 TRUE       FALSE     "
      ]
     },
     "metadata": {},
     "output_type": "display_data"
    },
    {
     "name": "stdout",
     "output_type": "stream",
     "text": [
      "================================================\n",
      "\n",
      "Data has extreme outliers!\n",
      "\n",
      "================================================"
     ]
    }
   ],
   "source": [
    "# ----------------------------------------------------------------------\n",
    "# Check for outliers\n",
    "# ----------------------------------------------------------------------\n",
    "# Identify if there are extreme outliers\n",
    "check.outliers <- df %>%\n",
    "  group_by(Fc1, Fc2) %>%\n",
    "  identify_outliers(meanDV)\n",
    "\n",
    "# Display\n",
    "check.outliers\n",
    "\n",
    "# Outlier result text\n",
    "outlier.result.txt <- ifelse(any(check.outliers$is.extreme == T), \n",
    "       \"Data has extreme outliers!\",\n",
    "       \"There are no extreme outliers.\")\n",
    "cat(\"================================================\\n\\n\")\n",
    "cat(outlier.result.txt)\n",
    "cat(\"\\n\\n================================================\")\n",
    "\n",
    "# Boxplot title color. It will be red if there are ouliers!\n",
    "outlier.title.color <- ifelse(any(check.outliers$is.extreme == T), \n",
    "       \"red\",\n",
    "       \"black\")\n",
    "\n",
    "# Create a boxplot\n",
    "plot.box <- ggboxplot(\n",
    "  df, x = \"Fc2\", y = \"meanDV\",\n",
    "  color = \"Fc1\", \n",
    "  title = outlier.result.txt, \n",
    "  ylab = param$y.label, \n",
    "  xlab = param$Fc2.label\n",
    "  ) +\n",
    "guides(color = guide_legend(param$Fc1.label)) +\n",
    "scale_color_manual(values = param$cat.color) +\n",
    "theme(plot.title = element_text(hjust = 0.5, color = outlier.title.color)) \n"
   ]
  },
  {
   "cell_type": "markdown",
   "metadata": {},
   "source": [
    "#### Normality"
   ]
  },
  {
   "cell_type": "code",
   "execution_count": 12,
   "metadata": {},
   "outputs": [
    {
     "data": {
      "text/html": [
       "<table class=\"dataframe\">\n",
       "<caption>A tibble: 4 × 5</caption>\n",
       "<thead>\n",
       "\t<tr><th scope=col>Fc1</th><th scope=col>Fc2</th><th scope=col>variable</th><th scope=col>statistic</th><th scope=col>p</th></tr>\n",
       "\t<tr><th scope=col>&lt;fct&gt;</th><th scope=col>&lt;fct&gt;</th><th scope=col>&lt;chr&gt;</th><th scope=col>&lt;dbl&gt;</th><th scope=col>&lt;dbl&gt;</th></tr>\n",
       "</thead>\n",
       "<tbody>\n",
       "\t<tr><td>Faces </td><td>Negative</td><td>meanDV</td><td>0.9279360</td><td>0.158654565</td></tr>\n",
       "\t<tr><td>Faces </td><td>Neutral </td><td>meanDV</td><td>0.9258916</td><td>0.145440020</td></tr>\n",
       "\t<tr><td>People</td><td>Negative</td><td>meanDV</td><td>0.8333678</td><td>0.003640378</td></tr>\n",
       "\t<tr><td>People</td><td>Neutral </td><td>meanDV</td><td>0.9469856</td><td>0.350725108</td></tr>\n",
       "</tbody>\n",
       "</table>\n"
      ],
      "text/latex": [
       "A tibble: 4 × 5\n",
       "\\begin{tabular}{lllll}\n",
       " Fc1 & Fc2 & variable & statistic & p\\\\\n",
       " <fct> & <fct> & <chr> & <dbl> & <dbl>\\\\\n",
       "\\hline\n",
       "\t Faces  & Negative & meanDV & 0.9279360 & 0.158654565\\\\\n",
       "\t Faces  & Neutral  & meanDV & 0.9258916 & 0.145440020\\\\\n",
       "\t People & Negative & meanDV & 0.8333678 & 0.003640378\\\\\n",
       "\t People & Neutral  & meanDV & 0.9469856 & 0.350725108\\\\\n",
       "\\end{tabular}\n"
      ],
      "text/markdown": [
       "\n",
       "A tibble: 4 × 5\n",
       "\n",
       "| Fc1 &lt;fct&gt; | Fc2 &lt;fct&gt; | variable &lt;chr&gt; | statistic &lt;dbl&gt; | p &lt;dbl&gt; |\n",
       "|---|---|---|---|---|\n",
       "| Faces  | Negative | meanDV | 0.9279360 | 0.158654565 |\n",
       "| Faces  | Neutral  | meanDV | 0.9258916 | 0.145440020 |\n",
       "| People | Negative | meanDV | 0.8333678 | 0.003640378 |\n",
       "| People | Neutral  | meanDV | 0.9469856 | 0.350725108 |\n",
       "\n"
      ],
      "text/plain": [
       "  Fc1    Fc2      variable statistic p          \n",
       "1 Faces  Negative meanDV   0.9279360 0.158654565\n",
       "2 Faces  Neutral  meanDV   0.9258916 0.145440020\n",
       "3 People Negative meanDV   0.8333678 0.003640378\n",
       "4 People Neutral  meanDV   0.9469856 0.350725108"
      ]
     },
     "metadata": {},
     "output_type": "display_data"
    },
    {
     "name": "stdout",
     "output_type": "stream",
     "text": [
      "================================================\n",
      "\n",
      "Not all levels are normaly distributed!\n",
      "\n",
      "================================================"
     ]
    }
   ],
   "source": [
    "# ----------------------------------------------------------------------\n",
    "# Check normality assumption\n",
    "# ----------------------------------------------------------------------\n",
    "# Shapiro-Wilk’s test (should be > .05)\n",
    "check.normality <- df %>% \n",
    "  group_by(Fc1, Fc2) %>% \n",
    "  shapiro_test(meanDV)\n",
    "\n",
    "# Display\n",
    "check.normality\n",
    "\n",
    "# Normality result text\n",
    "normality.result.txt <- ifelse(any(check.normality$p < 0.05), \n",
    "       \"Not all levels are normaly distributed!\", \n",
    "       \"All levels are normally distributed.\")\n",
    "cat(\"================================================\\n\\n\")\n",
    "cat(normality.result.txt)\n",
    "cat(\"\\n\\n================================================\")\n",
    "\n",
    "# QQ plot title color. It will be red if not all levels meet normality!\n",
    "normality.title.color <- ifelse(any(check.normality$p < 0.05), \n",
    "       \"red\",\n",
    "       \"black\")\n",
    "\n",
    "# Create Quantile-Quantile plots\n",
    "plot.qq <- ggqqplot(df, \"meanDV\", ggtheme = theme_minimal(), title = normality.result.txt) +\n",
    "  facet_grid(Fc1 ~ Fc2, labeller = \"label_both\") + \n",
    "  theme(plot.title = element_text(hjust = 0.5, color = normality.title.color))  "
   ]
  },
  {
   "cell_type": "markdown",
   "metadata": {},
   "source": [
    "#### Boxplot and QQ plots"
   ]
  },
  {
   "cell_type": "code",
   "execution_count": 13,
   "metadata": {},
   "outputs": [
    {
     "data": {
      "image/png": "[encoded data removed]",
      "text/plain": [
       "plot without title"
      ]
     },
     "metadata": {
      "image/png": {
       "height": 500,
       "width": 1000
      }
     },
     "output_type": "display_data"
    }
   ],
   "source": [
    "# ----------------------------------------------------------------------\n",
    "# PLOT Boxplot and QQ\n",
    "# ----------------------------------------------------------------------\n",
    "options(repr.plot.width = 10, repr.plot.height = 5, repr.plot.res = 200) # change plot size\n",
    "\n",
    "# Add result texts as titles for each plot\n",
    "plot_grid(plot.box, plot.qq, nrow = 1, rel_widths = c(1/4,3/4))"
   ]
  },
  {
   "cell_type": "markdown",
   "metadata": {},
   "source": [
    "### Descriptive summary"
   ]
  },
  {
   "cell_type": "code",
   "execution_count": 14,
   "metadata": {},
   "outputs": [
    {
     "data": {
      "text/html": [
       "<table class=\"dataframe\">\n",
       "<caption>A data.frame: 4 × 7</caption>\n",
       "<thead>\n",
       "\t<tr><th scope=col>Fc1</th><th scope=col>Fc2</th><th scope=col>N</th><th scope=col>meanDV</th><th scope=col>sd</th><th scope=col>se</th><th scope=col>ci</th></tr>\n",
       "\t<tr><th scope=col>&lt;fct&gt;</th><th scope=col>&lt;fct&gt;</th><th scope=col>&lt;dbl&gt;</th><th scope=col>&lt;dbl&gt;</th><th scope=col>&lt;dbl&gt;</th><th scope=col>&lt;dbl&gt;</th><th scope=col>&lt;dbl&gt;</th></tr>\n",
       "</thead>\n",
       "<tbody>\n",
       "\t<tr><td>Faces </td><td>Negative</td><td>19</td><td>-52.75116</td><td>14.77499</td><td>3.389615</td><td>7.121317</td></tr>\n",
       "\t<tr><td>Faces </td><td>Neutral </td><td>19</td><td> 17.62804</td><td>11.73257</td><td>2.691635</td><td>5.654916</td></tr>\n",
       "\t<tr><td>People</td><td>Negative</td><td>19</td><td>-59.92947</td><td>13.65515</td><td>3.132706</td><td>6.581571</td></tr>\n",
       "\t<tr><td>People</td><td>Neutral </td><td>19</td><td> 19.45238</td><td>15.63017</td><td>3.585806</td><td>7.533500</td></tr>\n",
       "</tbody>\n",
       "</table>\n"
      ],
      "text/latex": [
       "A data.frame: 4 × 7\n",
       "\\begin{tabular}{lllllll}\n",
       " Fc1 & Fc2 & N & meanDV & sd & se & ci\\\\\n",
       " <fct> & <fct> & <dbl> & <dbl> & <dbl> & <dbl> & <dbl>\\\\\n",
       "\\hline\n",
       "\t Faces  & Negative & 19 & -52.75116 & 14.77499 & 3.389615 & 7.121317\\\\\n",
       "\t Faces  & Neutral  & 19 &  17.62804 & 11.73257 & 2.691635 & 5.654916\\\\\n",
       "\t People & Negative & 19 & -59.92947 & 13.65515 & 3.132706 & 6.581571\\\\\n",
       "\t People & Neutral  & 19 &  19.45238 & 15.63017 & 3.585806 & 7.533500\\\\\n",
       "\\end{tabular}\n"
      ],
      "text/markdown": [
       "\n",
       "A data.frame: 4 × 7\n",
       "\n",
       "| Fc1 &lt;fct&gt; | Fc2 &lt;fct&gt; | N &lt;dbl&gt; | meanDV &lt;dbl&gt; | sd &lt;dbl&gt; | se &lt;dbl&gt; | ci &lt;dbl&gt; |\n",
       "|---|---|---|---|---|---|---|\n",
       "| Faces  | Negative | 19 | -52.75116 | 14.77499 | 3.389615 | 7.121317 |\n",
       "| Faces  | Neutral  | 19 |  17.62804 | 11.73257 | 2.691635 | 5.654916 |\n",
       "| People | Negative | 19 | -59.92947 | 13.65515 | 3.132706 | 6.581571 |\n",
       "| People | Neutral  | 19 |  19.45238 | 15.63017 | 3.585806 | 7.533500 |\n",
       "\n"
      ],
      "text/plain": [
       "  Fc1    Fc2      N  meanDV    sd       se       ci      \n",
       "1 Faces  Negative 19 -52.75116 14.77499 3.389615 7.121317\n",
       "2 Faces  Neutral  19  17.62804 11.73257 2.691635 5.654916\n",
       "3 People Negative 19 -59.92947 13.65515 3.132706 6.581571\n",
       "4 People Neutral  19  19.45238 15.63017 3.585806 7.533500"
      ]
     },
     "metadata": {},
     "output_type": "display_data"
    }
   ],
   "source": [
    "# ----------------------------------------------------------------------\n",
    "# Within-Subject descriptive summary\n",
    "# ----------------------------------------------------------------------\n",
    "# Get the within-subject summary. Will need this to plot within-subject error bars.\n",
    "# Using summarySEwithin function from the Rmisc package \n",
    "\n",
    "dataSummary <- summarySEwithin(\n",
    "  df,\n",
    "  measurevar = \"meanDV\",\n",
    "  withinvars = c(\"Fc1\", \"Fc2\"),\n",
    "  idvar = \"sID\",\n",
    "  na.rm = TRUE,\n",
    "  conf.interval = 0.95\n",
    ")\n",
    "# See how it looks\n",
    "dataSummary"
   ]
  },
  {
   "cell_type": "markdown",
   "metadata": {},
   "source": [
    "### 2 x 2 ANOVA results"
   ]
  },
  {
   "cell_type": "markdown",
   "metadata": {},
   "source": [
    "#### 2-way interaction"
   ]
  },
  {
   "cell_type": "code",
   "execution_count": 15,
   "metadata": {},
   "outputs": [
    {
     "name": "stdout",
     "output_type": "stream",
     "text": [
      "\n",
      "================================================\n",
      "\n",
      "\n",
      "Significant Emotion x Item interaction: F(1,18) = 5.83, p = 0.0266076\n",
      "\n",
      "\n",
      "================================================"
     ]
    }
   ],
   "source": [
    "# ----------------------------------------------------------------------\n",
    "# Factor 1 X Factor 2 interaction, ANOVA\n",
    "# ----------------------------------------------------------------------\n",
    "# Within-subject repeated measures ANOVA\n",
    "  results$res.anova <-\n",
    "    aov(meanDV ~ Fc1 * Fc2 + Error(sID / (Fc1 * Fc2)),\n",
    "        data = df)\n",
    "  #Summary results\n",
    "  summary.anova <- summary(results$res.anova)\n",
    "\n",
    "  # save p-val, will need it to put on the plot\n",
    "  res.anova.pval <-\n",
    "    summary.anova[[\"Error: sID:Fc1:Fc2\"]][[1]][[\"Pr(>F)\"]][1]\n",
    "\n",
    "  # Display result string\n",
    "  sign.anova <-\n",
    "    ifelse(res.anova.pval < 0.05, \"Significant\", \"No significant\")\n",
    "\n",
    "  results$res.txt.anova <- sprintf(\n",
    "    \"\\n%s %s: F(%d,%d) = %.2f, p = %.7f\\n\",\n",
    "    sign.anova,\n",
    "    param$title,\n",
    "    summary.anova[[\"Error: sID:Fc1:Fc2\"]][[1]][[\"Df\"]][1],\n",
    "    summary.anova[[\"Error: sID:Fc1:Fc2\"]][[1]][[\"Df\"]][2],\n",
    "    summary.anova[[\"Error: sID:Fc1:Fc2\"]][[1]][[\"F value\"]][1],\n",
    "    res.anova.pval\n",
    "  )\n",
    "\n",
    "cat(\"\\n================================================\\n\\n\")\n",
    "cat(results$res.txt.anova)\n",
    "cat(\"\\n\\n================================================\")"
   ]
  },
  {
   "cell_type": "markdown",
   "metadata": {},
   "source": [
    "#### Main Effects of Factor 1"
   ]
  },
  {
   "cell_type": "code",
   "execution_count": 16,
   "metadata": {},
   "outputs": [
    {
     "name": "stdout",
     "output_type": "stream",
     "text": [
      "Main effect of Item: F(1,18) = 1.50, p = 0.2365520\n"
     ]
    }
   ],
   "source": [
    "# Main Effect of Factor 1\n",
    "\n",
    "  # save p-val, will need it to put on the plot\n",
    "  res.Fc1.pval <-\n",
    "    summary.anova[[\"Error: sID:Fc1\"]][[1]][[\"Pr(>F)\"]][1]\n",
    "\n",
    "  # Display result string\n",
    "  sign.Fc1 <-\n",
    "    ifelse(res.Fc1.pval < 0.05, \"Significant\", \"No significant\")\n",
    "\n",
    "  results$res.txt.Fc1 <- sprintf(\n",
    "    \"Main effect of %s: F(%d,%d) = %.2f, p = %.7f\\n\",\n",
    "    param$Fc1.label,\n",
    "    summary.anova[[\"Error: sID:Fc1\"]][[1]][[\"Df\"]][1],\n",
    "    summary.anova[[\"Error: sID:Fc1\"]][[1]][[\"Df\"]][2],\n",
    "    summary.anova[[\"Error: sID:Fc1\"]][[1]][[\"F value\"]][1],\n",
    "    summary.anova[[\"Error: sID:Fc1\"]][[1]][[\"Pr(>F)\"]][1]\n",
    "  )\n",
    "\n",
    "  # display the result sentence\n",
    "\n",
    "  cat(results$res.txt.Fc1)"
   ]
  },
  {
   "cell_type": "markdown",
   "metadata": {},
   "source": [
    "#### Main Effects of Factor 2"
   ]
  },
  {
   "cell_type": "code",
   "execution_count": 17,
   "metadata": {},
   "outputs": [
    {
     "name": "stdout",
     "output_type": "stream",
     "text": [
      "Main effect of Emotion: F(1,18) = 245.92, p = 0.0000000\n"
     ]
    }
   ],
   "source": [
    " # Main Effect of Factor 2\n",
    "  res.Fc2.pval <-\n",
    "    summary.anova[[\"Error: sID:Fc2\"]][[1]][[\"Pr(>F)\"]][1]\n",
    "\n",
    "  # Display result string\n",
    "  sign.Fc2 <-\n",
    "    ifelse(res.Fc2.pval < 0.05, \"Significant\", \"No significant\")\n",
    "\n",
    "  results$res.txt.Fc2 <- sprintf(\n",
    "    \"Main effect of %s: F(%d,%d) = %.2f, p = %.7f\\n\",\n",
    "    param$Fc2.label,\n",
    "    summary.anova[[\"Error: sID:Fc2\"]][[1]][[\"Df\"]][1],\n",
    "    summary.anova[[\"Error: sID:Fc2\"]][[1]][[\"Df\"]][2],\n",
    "    summary.anova[[\"Error: sID:Fc2\"]][[1]][[\"F value\"]][1],\n",
    "    summary.anova[[\"Error: sID:Fc2\"]][[1]][[\"Pr(>F)\"]][1]\n",
    "  )\n",
    "\n",
    "  # display the result sentence\n",
    "\n",
    "  cat(results$res.txt.Fc2)"
   ]
  },
  {
   "cell_type": "markdown",
   "metadata": {},
   "source": [
    "### Post-hoc tests"
   ]
  },
  {
   "cell_type": "code",
   "execution_count": 18,
   "metadata": {},
   "outputs": [
    {
     "data": {
      "text/html": [
       "<table class=\"dataframe\">\n",
       "<caption>A rstatix_test: 2 × 11</caption>\n",
       "<thead>\n",
       "\t<tr><th></th><th scope=col>Fc1</th><th scope=col>.y.</th><th scope=col>group1</th><th scope=col>group2</th><th scope=col>n1</th><th scope=col>n2</th><th scope=col>statistic</th><th scope=col>df</th><th scope=col>p</th><th scope=col>p.adj</th><th scope=col>p.adj.signif</th></tr>\n",
       "\t<tr><th></th><th scope=col>&lt;fct&gt;</th><th scope=col>&lt;chr&gt;</th><th scope=col>&lt;chr&gt;</th><th scope=col>&lt;chr&gt;</th><th scope=col>&lt;int&gt;</th><th scope=col>&lt;int&gt;</th><th scope=col>&lt;dbl&gt;</th><th scope=col>&lt;dbl&gt;</th><th scope=col>&lt;dbl&gt;</th><th scope=col>&lt;dbl&gt;</th><th scope=col>&lt;chr&gt;</th></tr>\n",
       "</thead>\n",
       "<tbody>\n",
       "\t<tr><th scope=row>1</th><td>Faces </td><td>meanDV</td><td>Negative</td><td>Neutral</td><td>19</td><td>19</td><td>-14.57339</td><td>18</td><td>2.09e-11</td><td>2.09e-11</td><td>****</td></tr>\n",
       "\t<tr><th scope=row>2</th><td>People</td><td>meanDV</td><td>Negative</td><td>Neutral</td><td>19</td><td>19</td><td>-14.68316</td><td>18</td><td>1.84e-11</td><td>1.84e-11</td><td>****</td></tr>\n",
       "</tbody>\n",
       "</table>\n"
      ],
      "text/latex": [
       "A rstatix\\_test: 2 × 11\n",
       "\\begin{tabular}{r|lllllllllll}\n",
       "  & Fc1 & .y. & group1 & group2 & n1 & n2 & statistic & df & p & p.adj & p.adj.signif\\\\\n",
       "  & <fct> & <chr> & <chr> & <chr> & <int> & <int> & <dbl> & <dbl> & <dbl> & <dbl> & <chr>\\\\\n",
       "\\hline\n",
       "\t1 & Faces  & meanDV & Negative & Neutral & 19 & 19 & -14.57339 & 18 & 2.09e-11 & 2.09e-11 & ****\\\\\n",
       "\t2 & People & meanDV & Negative & Neutral & 19 & 19 & -14.68316 & 18 & 1.84e-11 & 1.84e-11 & ****\\\\\n",
       "\\end{tabular}\n"
      ],
      "text/markdown": [
       "\n",
       "A rstatix_test: 2 × 11\n",
       "\n",
       "| <!--/--> | Fc1 &lt;fct&gt; | .y. &lt;chr&gt; | group1 &lt;chr&gt; | group2 &lt;chr&gt; | n1 &lt;int&gt; | n2 &lt;int&gt; | statistic &lt;dbl&gt; | df &lt;dbl&gt; | p &lt;dbl&gt; | p.adj &lt;dbl&gt; | p.adj.signif &lt;chr&gt; |\n",
       "|---|---|---|---|---|---|---|---|---|---|---|---|\n",
       "| 1 | Faces  | meanDV | Negative | Neutral | 19 | 19 | -14.57339 | 18 | 2.09e-11 | 2.09e-11 | **** |\n",
       "| 2 | People | meanDV | Negative | Neutral | 19 | 19 | -14.68316 | 18 | 1.84e-11 | 1.84e-11 | **** |\n",
       "\n"
      ],
      "text/plain": [
       "  Fc1    .y.    group1   group2  n1 n2 statistic df p        p.adj   \n",
       "1 Faces  meanDV Negative Neutral 19 19 -14.57339 18 2.09e-11 2.09e-11\n",
       "2 People meanDV Negative Neutral 19 19 -14.68316 18 1.84e-11 1.84e-11\n",
       "  p.adj.signif\n",
       "1 ****        \n",
       "2 ****        "
      ]
     },
     "metadata": {},
     "output_type": "display_data"
    }
   ],
   "source": [
    "# Pairwise comparisons grouped by Factor 1\n",
    "pwc1 <- df %>%\n",
    "  group_by(Fc1) %>%\n",
    "  pairwise_t_test(\n",
    "    meanDV ~ Fc2, paired = TRUE\n",
    "  )\n",
    "pwc1"
   ]
  },
  {
   "cell_type": "code",
   "execution_count": 19,
   "metadata": {},
   "outputs": [
    {
     "data": {
      "text/html": [
       "<table class=\"dataframe\">\n",
       "<caption>A rstatix_test: 2 × 11</caption>\n",
       "<thead>\n",
       "\t<tr><th></th><th scope=col>Fc2</th><th scope=col>.y.</th><th scope=col>group1</th><th scope=col>group2</th><th scope=col>n1</th><th scope=col>n2</th><th scope=col>statistic</th><th scope=col>df</th><th scope=col>p</th><th scope=col>p.adj</th><th scope=col>p.adj.signif</th></tr>\n",
       "\t<tr><th></th><th scope=col>&lt;fct&gt;</th><th scope=col>&lt;chr&gt;</th><th scope=col>&lt;chr&gt;</th><th scope=col>&lt;chr&gt;</th><th scope=col>&lt;int&gt;</th><th scope=col>&lt;int&gt;</th><th scope=col>&lt;dbl&gt;</th><th scope=col>&lt;dbl&gt;</th><th scope=col>&lt;dbl&gt;</th><th scope=col>&lt;dbl&gt;</th><th scope=col>&lt;chr&gt;</th></tr>\n",
       "</thead>\n",
       "<tbody>\n",
       "\t<tr><th scope=row>1</th><td>Negative</td><td>meanDV</td><td>Faces</td><td>People</td><td>19</td><td>19</td><td> 2.3724765</td><td>18</td><td>0.029</td><td>0.029</td><td>* </td></tr>\n",
       "\t<tr><th scope=row>2</th><td>Neutral </td><td>meanDV</td><td>Faces</td><td>People</td><td>19</td><td>19</td><td>-0.6727361</td><td>18</td><td>0.510</td><td>0.510</td><td>ns</td></tr>\n",
       "</tbody>\n",
       "</table>\n"
      ],
      "text/latex": [
       "A rstatix\\_test: 2 × 11\n",
       "\\begin{tabular}{r|lllllllllll}\n",
       "  & Fc2 & .y. & group1 & group2 & n1 & n2 & statistic & df & p & p.adj & p.adj.signif\\\\\n",
       "  & <fct> & <chr> & <chr> & <chr> & <int> & <int> & <dbl> & <dbl> & <dbl> & <dbl> & <chr>\\\\\n",
       "\\hline\n",
       "\t1 & Negative & meanDV & Faces & People & 19 & 19 &  2.3724765 & 18 & 0.029 & 0.029 & * \\\\\n",
       "\t2 & Neutral  & meanDV & Faces & People & 19 & 19 & -0.6727361 & 18 & 0.510 & 0.510 & ns\\\\\n",
       "\\end{tabular}\n"
      ],
      "text/markdown": [
       "\n",
       "A rstatix_test: 2 × 11\n",
       "\n",
       "| <!--/--> | Fc2 &lt;fct&gt; | .y. &lt;chr&gt; | group1 &lt;chr&gt; | group2 &lt;chr&gt; | n1 &lt;int&gt; | n2 &lt;int&gt; | statistic &lt;dbl&gt; | df &lt;dbl&gt; | p &lt;dbl&gt; | p.adj &lt;dbl&gt; | p.adj.signif &lt;chr&gt; |\n",
       "|---|---|---|---|---|---|---|---|---|---|---|---|\n",
       "| 1 | Negative | meanDV | Faces | People | 19 | 19 |  2.3724765 | 18 | 0.029 | 0.029 | *  |\n",
       "| 2 | Neutral  | meanDV | Faces | People | 19 | 19 | -0.6727361 | 18 | 0.510 | 0.510 | ns |\n",
       "\n"
      ],
      "text/plain": [
       "  Fc2      .y.    group1 group2 n1 n2 statistic  df p     p.adj p.adj.signif\n",
       "1 Negative meanDV Faces  People 19 19  2.3724765 18 0.029 0.029 *           \n",
       "2 Neutral  meanDV Faces  People 19 19 -0.6727361 18 0.510 0.510 ns          "
      ]
     },
     "metadata": {},
     "output_type": "display_data"
    }
   ],
   "source": [
    "# Pairwise comparisons grouped by Factor 2\n",
    "pwc2 <- df %>%\n",
    "  group_by(Fc2) %>%\n",
    "  pairwise_t_test(\n",
    "    meanDV ~ Fc1, paired = TRUE\n",
    "  )\n",
    "pwc2"
   ]
  },
  {
   "cell_type": "markdown",
   "metadata": {},
   "source": [
    "### Plot the results"
   ]
  },
  {
   "cell_type": "markdown",
   "metadata": {},
   "source": [
    "#### Preparing titles and annotations"
   ]
  },
  {
   "cell_type": "code",
   "execution_count": 20,
   "metadata": {},
   "outputs": [],
   "source": [
    "# ----------------------------------------------------------------------\n",
    "# P-values for displaying significance stars\n",
    "# ----------------------------------------------------------------------\n",
    "# 2x2 interaction result\n",
    "p.anova <-\n",
    "  ifelse(res.anova.pval < 0.05, stars.pval(res.anova.pval), \"n.s.\")\n",
    "# Main effects\n",
    "p.mainFc1 <-\n",
    "  ifelse(results$one.way1$p < 0.05,\n",
    "         stars.pval(results$one.way1$p),\n",
    "         \"n.s.\")\n",
    "p.mainFc2 <-\n",
    "  ifelse(results$one.way2$p < 0.05,\n",
    "         stars.pval(results$one.way2$p),\n",
    "         \"n.s.\")\n",
    "# plot main title and factor labels (with added significance stars)\n",
    "plot.title <- sprintf(\"%s %s\", param$title, p.anova)\n",
    "Fc1.title <- sprintf(\"%s %s:\", param$Fc1.label, p.mainFc1)\n",
    "Fc2.title <- sprintf(\"%s %s\", param$Fc2.label, p.mainFc2)"
   ]
  },
  {
   "cell_type": "markdown",
   "metadata": {},
   "source": [
    "#### The plotting function"
   ]
  },
  {
   "cell_type": "code",
   "execution_count": 21,
   "metadata": {},
   "outputs": [],
   "source": [
    "# ----------------------------------------------------------------------\n",
    "# Plot the interaction results\n",
    "# ----------------------------------------------------------------------\n",
    "plot.anova <-\n",
    "  ggplot(data = df,\n",
    "         aes(\n",
    "           x = Fc2,\n",
    "           y = meanDV,\n",
    "           group = Fc1,\n",
    "           color = Fc1\n",
    "         )) +\n",
    "  # connect the level means with a line\n",
    "  stat_summary(fun = mean, geom = \"line\", size = 1) +\n",
    "  \n",
    "  # add mean point and error bars (taken from dataSummary created above)\n",
    "  geom_pointrange(\n",
    "    data = dataSummary,\n",
    "    aes(\n",
    "      y = meanDV,\n",
    "      ymin = meanDV - .data[[param$errorbar]],\n",
    "      ymax = meanDV + .data[[param$errorbar]],\n",
    "      color = Fc1\n",
    "    ),\n",
    "    size = 1,\n",
    "    stroke = 0.5,\n",
    "    show.legend = FALSE\n",
    "  ) +\n",
    "  \n",
    "  # change the default colors to the defined ones\n",
    "  scale_color_manual(values = param$cat.color) +\n",
    "  scale_fill_manual(values = param$cat.color) +\n",
    "  \n",
    "  # add labels and the title\n",
    "  guides(color = guide_legend(Fc1.title)) +\n",
    "  labs(x = Fc2.title, y = param$y.label) +\n",
    "  ggtitle(plot.title) +\n",
    "  \n",
    "  # make it nicer\n",
    "  theme_minimal() +\n",
    "  theme(\n",
    "    text = element_text(size = 16),\n",
    "    plot.title = element_text(hjust = 0.5,\n",
    "                              size = 16,\n",
    "                              face = \"bold\"),\n",
    "    panel.grid.major = element_blank(),\n",
    "    panel.grid.minor = element_blank(),\n",
    "    legend.position = \"top\"\n",
    "  )"
   ]
  },
  {
   "cell_type": "markdown",
   "metadata": {},
   "source": [
    "#### Add additional items to the plot and display the plot"
   ]
  },
  {
   "cell_type": "code",
   "execution_count": 22,
   "metadata": {},
   "outputs": [
    {
     "data": {
      "image/png": "[encoded data removed]",
      "text/plain": [
       "plot without title"
      ]
     },
     "metadata": {
      "image/png": {
       "height": 600,
       "width": 700
      }
     },
     "output_type": "display_data"
    }
   ],
   "source": [
    "options(repr.plot.width = 7, repr.plot.height = 6) # change plot size\n",
    "eb <- \"sd\"\n",
    "\n",
    "# ----------------------------------------------------------------------\n",
    "# Add extra stuff to the plot\n",
    "# ----------------------------------------------------------------------\n",
    "plot.anova + \n",
    "\n",
    "# add post-hoc pairwise comparisons\n",
    "# might need to adjust the x and y positions\n",
    "  annotate(\n",
    "    \"text\", x = 1.30, y = mean(dataSummary$meanDV),\n",
    "    label = p.Fc1.L1, color = param$cat.color[1], size = 8\n",
    "  ) +\n",
    "  annotate(\n",
    "    \"text\", x = 1.7, y = mean(dataSummary$meanDV),\n",
    "    label = p.Fc1.L2, color = param$cat.color[2], size = 8\n",
    "  )  +\n",
    "\n",
    "# add individual datapoints\n",
    "geom_point(\n",
    "    colour = \"black\", alpha = .3,\n",
    "    aes(fill = Fc1),\n",
    "    size = 2, stroke = 0.5, shape = 21,\n",
    "    position = position_jitterdodge(),\n",
    "    show.legend = FALSE\n",
    "  ) +\n",
    "\n",
    "# add horizontal line at 0\n",
    "    geom_hline(aes(yintercept = 0), size = 0.1) "
   ]
  },
  {
   "cell_type": "markdown",
   "metadata": {},
   "source": [
    "## Example 3: Test on another dataset"
   ]
  },
  {
   "cell_type": "markdown",
   "metadata": {},
   "source": [
    "Here I am testing the rm_2by2_anova function on another dataset. The dataset is from https://ademos.people.uic.edu/Chapter21.html.\n",
    "The background of the dataset is as follows: \n",
    "> This fake data is a sample of 30 adults. All subjects were shown a\n",
    "> set of words. Afterwards, for some of the words they were given a\n",
    "> multiple choice test, and the rest of the words they simply\n",
    "> restudied. Immediately afterwards their memory was tested for all\n",
    "> words to determine if there were memory differences depending on\n",
    "> whether the word was tested or restudied (immediate final test). Two\n",
    "> days later, subjects came back and were given the same test on all\n",
    "> words again (delayed final test). The dependent variable (DV) given\n",
    "> in the file are a proportion of correctly remembered items for the\n",
    "> immediate and delayed test for both conditions. Therefore, if we\n",
    "> want to know if there are memory difference based on time delay and\n",
    "> whether the word was tested or restudied, we need to conduct a within-subjects ANOVA."
   ]
  },
  {
   "cell_type": "markdown",
   "metadata": {},
   "source": [
    "### Load the data"
   ]
  },
  {
   "cell_type": "code",
   "execution_count": 23,
   "metadata": {},
   "outputs": [
    {
     "data": {
      "text/html": [
       "<table class=\"dataframe\">\n",
       "<caption>A data.frame: 6 × 4</caption>\n",
       "<thead>\n",
       "\t<tr><th></th><th scope=col>Subject</th><th scope=col>Study_Method</th><th scope=col>Test_Time</th><th scope=col>Memory_Performance</th></tr>\n",
       "\t<tr><th></th><th scope=col>&lt;int&gt;</th><th scope=col>&lt;fct&gt;</th><th scope=col>&lt;fct&gt;</th><th scope=col>&lt;dbl&gt;</th></tr>\n",
       "</thead>\n",
       "<tbody>\n",
       "\t<tr><th scope=row>1</th><td>1</td><td>Test</td><td>Immediate</td><td>96</td></tr>\n",
       "\t<tr><th scope=row>2</th><td>2</td><td>Test</td><td>Immediate</td><td>81</td></tr>\n",
       "\t<tr><th scope=row>3</th><td>3</td><td>Test</td><td>Immediate</td><td>73</td></tr>\n",
       "\t<tr><th scope=row>4</th><td>4</td><td>Test</td><td>Immediate</td><td>90</td></tr>\n",
       "\t<tr><th scope=row>5</th><td>5</td><td>Test</td><td>Immediate</td><td>72</td></tr>\n",
       "\t<tr><th scope=row>6</th><td>6</td><td>Test</td><td>Immediate</td><td>83</td></tr>\n",
       "</tbody>\n",
       "</table>\n"
      ],
      "text/latex": [
       "A data.frame: 6 × 4\n",
       "\\begin{tabular}{r|llll}\n",
       "  & Subject & Study\\_Method & Test\\_Time & Memory\\_Performance\\\\\n",
       "  & <int> & <fct> & <fct> & <dbl>\\\\\n",
       "\\hline\n",
       "\t1 & 1 & Test & Immediate & 96\\\\\n",
       "\t2 & 2 & Test & Immediate & 81\\\\\n",
       "\t3 & 3 & Test & Immediate & 73\\\\\n",
       "\t4 & 4 & Test & Immediate & 90\\\\\n",
       "\t5 & 5 & Test & Immediate & 72\\\\\n",
       "\t6 & 6 & Test & Immediate & 83\\\\\n",
       "\\end{tabular}\n"
      ],
      "text/markdown": [
       "\n",
       "A data.frame: 6 × 4\n",
       "\n",
       "| <!--/--> | Subject &lt;int&gt; | Study_Method &lt;fct&gt; | Test_Time &lt;fct&gt; | Memory_Performance &lt;dbl&gt; |\n",
       "|---|---|---|---|---|\n",
       "| 1 | 1 | Test | Immediate | 96 |\n",
       "| 2 | 2 | Test | Immediate | 81 |\n",
       "| 3 | 3 | Test | Immediate | 73 |\n",
       "| 4 | 4 | Test | Immediate | 90 |\n",
       "| 5 | 5 | Test | Immediate | 72 |\n",
       "| 6 | 6 | Test | Immediate | 83 |\n",
       "\n"
      ],
      "text/plain": [
       "  Subject Study_Method Test_Time Memory_Performance\n",
       "1 1       Test         Immediate 96                \n",
       "2 2       Test         Immediate 81                \n",
       "3 3       Test         Immediate 73                \n",
       "4 4       Test         Immediate 90                \n",
       "5 5       Test         Immediate 72                \n",
       "6 6       Test         Immediate 83                "
      ]
     },
     "metadata": {},
     "output_type": "display_data"
    }
   ],
   "source": [
    "# https://ademos.people.uic.edu/Chapter21.html\n",
    "# load the data\n",
    "study_dataset <- read.csv(\"https://ademos.people.uic.edu/Chapter_21_Within_Data.csv\")\n",
    "\n",
    "# Dataset content: \n",
    "#Subject = Subject ID #\n",
    "#Within_Cond = Study Method (test or restudy)\n",
    "#Within_Time = Immediate or Delayed\n",
    "#DV = Memory Performance\n",
    "\n",
    "# Change the column names and levels to reflect the data content\n",
    "\n",
    "study_dataset$Within_Cond <- factor(study_dataset$Within_Cond,\n",
    "                               levels = c(1,2),\n",
    "                               labels = c(\"Test\", \"Restudy\"))\n",
    "\n",
    "study_dataset$Within_Time <-factor(study_dataset$Within_Time,\n",
    "                                  levels = c(1,2),\n",
    "                                  labels = c(\"Immediate\", \"Delayed\")) \n",
    "\n",
    "colnames(study_dataset)[2] <- \"Study_Method\"\n",
    "colnames(study_dataset)[3] <- \"Test_Time\"\n",
    "colnames(study_dataset)[4] <- \"Memory_Performance\"\n",
    "\n",
    "head(study_dataset)"
   ]
  },
  {
   "cell_type": "markdown",
   "metadata": {},
   "source": [
    "### Specify parameters"
   ]
  },
  {
   "cell_type": "code",
   "execution_count": 24,
   "metadata": {},
   "outputs": [],
   "source": [
    "# ----------------------------------------------------------------------\n",
    "# Specify items and parameters\n",
    "# ----------------------------------------------------------------------\n",
    "\n",
    "# From the dataset, specify subject ID, Dependent Variable, and 2 within-subject Factors \n",
    "columns <- list(\n",
    "  sID = \"Subject\",\n",
    "  DV  = \"Memory_Performance\",\n",
    "  Fc1 = \"Study_Method\",\n",
    "  Fc2 = \"Test_Time\"\n",
    ")\n",
    "# Define plot label names, tilte, colors and what type of error bars to show on the plot\n",
    "param <- list(\n",
    "  y.label    = \"Memory Performance\",\n",
    "  Fc1.label  = \"Study Method\",\n",
    "  Fc2.label  = \"Test Time\",\n",
    "  cat.color  = c('darkblue', 'lightgreen'),\n",
    "  errorbar   = \"ci\"  # can be either sd, se, or ci\n",
    ")\n",
    "# the plot title\n",
    "param$title <- sprintf(\"%s x %s interaction\", param$Fc2.label, param$Fc1.label)"
   ]
  },
  {
   "cell_type": "markdown",
   "metadata": {},
   "source": [
    "### Run the function"
   ]
  },
  {
   "cell_type": "code",
   "execution_count": 25,
   "metadata": {},
   "outputs": [
    {
     "name": "stdout",
     "output_type": "stream",
     "text": [
      "================================================================\n",
      "\n",
      "CHECK ASSUMPTIONS\n",
      "\n",
      "================================================================\n",
      " Outliers\n",
      "\n",
      "[1] Fc1        Fc2        sID        meanDV     is.outlier is.extreme\n",
      "<0 rows> (or 0-length row.names)\n",
      "\n",
      "There are no extreme outliers.\n",
      "\n",
      "-----------------------------------------------\n",
      " Normality \n",
      "\n",
      "\u001b[90m# A tibble: 4 x 5\u001b[39m\n",
      "  Fc1     Fc2       variable statistic       p\n",
      "  \u001b[3m\u001b[90m<fct>\u001b[39m\u001b[23m   \u001b[3m\u001b[90m<fct>\u001b[39m\u001b[23m     \u001b[3m\u001b[90m<chr>\u001b[39m\u001b[23m        \u001b[3m\u001b[90m<dbl>\u001b[39m\u001b[23m   \u001b[3m\u001b[90m<dbl>\u001b[39m\u001b[23m\n",
      "\u001b[90m1\u001b[39m Test    Immediate meanDV       0.922 0.030\u001b[4m1\u001b[24m \n",
      "\u001b[90m2\u001b[39m Test    Delayed   meanDV       0.934 0.064\u001b[4m5\u001b[24m \n",
      "\u001b[90m3\u001b[39m Restudy Immediate meanDV       0.958 0.280  \n",
      "\u001b[90m4\u001b[39m Restudy Delayed   meanDV       0.871 0.001\u001b[4m7\u001b[24m\u001b[4m6\u001b[24m\n",
      "\n",
      "Not all levels are normaly distributed!\n",
      "\n",
      "================================================================\n",
      "\n",
      "SUMMARY DESCRIPTIVES\n",
      "\n",
      "================================================================\n",
      "      Fc1       Fc2  N   meanDV        sd       se       ci\n",
      "1    Test Immediate 30 81.26667  9.475361 1.729956 3.538158\n",
      "2    Test   Delayed 30 83.80000  9.232216 1.685564 3.447366\n",
      "3 Restudy Immediate 30 83.40000  9.504108 1.735205 3.548892\n",
      "4 Restudy   Delayed 30 68.30000 12.424643 2.268419 4.639438\n",
      "\n",
      "================================================================\n",
      "\n",
      "2x2 INTERACTION RESULTS\n",
      "\n",
      "================================================================\n",
      "\n",
      "Error: sID\n",
      "          Df Sum Sq Mean Sq F value Pr(>F)\n",
      "Residuals 29   2497   86.12               \n",
      "\n",
      "Error: sID:Fc1\n",
      "          Df Sum Sq Mean Sq F value  Pr(>F)   \n",
      "Fc1        1   1340  1340.0   12.24 0.00153 **\n",
      "Residuals 29   3176   109.5                   \n",
      "---\n",
      "Signif. codes:  0 '***' 0.001 '**' 0.01 '*' 0.05 '.' 0.1 ' ' 1\n",
      "\n",
      "Error: sID:Fc2\n",
      "          Df Sum Sq Mean Sq F value  Pr(>F)   \n",
      "Fc2        1   1184  1184.4   13.21 0.00107 **\n",
      "Residuals 29   2599    89.6                   \n",
      "---\n",
      "Signif. codes:  0 '***' 0.001 '**' 0.01 '*' 0.05 '.' 0.1 ' ' 1\n",
      "\n",
      "Error: sID:Fc1:Fc2\n",
      "          Df Sum Sq Mean Sq F value   Pr(>F)    \n",
      "Fc1:Fc2    1   2332  2332.0   20.16 0.000104 ***\n",
      "Residuals 29   3354   115.6                     \n",
      "---\n",
      "Signif. codes:  0 '***' 0.001 '**' 0.01 '*' 0.05 '.' 0.1 ' ' 1\n",
      "\n",
      "Significant Test Time x Study Method interaction: F(1,29) = 20.17, p = 0.0001042\n",
      "\n",
      "================================================================\n",
      "\n",
      "Main Effects\n",
      "\n",
      "================================================================\n",
      "Main effect of Study Method: F(1,29) = 12.24, p = 0.0015321\n",
      "\n",
      "\n",
      "-----------------------------------------------\n",
      "Main effect of Test Time: F(1,29) = 13.21, p = 0.0010667\n",
      "\n",
      "================================================================\n",
      "\n",
      "Post-hoc\n",
      "\n",
      "================================================================\n",
      "\n",
      "Pairwise comparisons grouped by Factor 1\n",
      "\u001b[90m# A tibble: 2 x 11\u001b[39m\n",
      "  Fc1     .y.    group1    group2     n1    n2 statistic    df         p   p.adj\n",
      "\u001b[90m*\u001b[39m \u001b[3m\u001b[90m<fct>\u001b[39m\u001b[23m   \u001b[3m\u001b[90m<chr>\u001b[39m\u001b[23m  \u001b[3m\u001b[90m<chr>\u001b[39m\u001b[23m     \u001b[3m\u001b[90m<chr>\u001b[39m\u001b[23m   \u001b[3m\u001b[90m<int>\u001b[39m\u001b[23m \u001b[3m\u001b[90m<int>\u001b[39m\u001b[23m     \u001b[3m\u001b[90m<dbl>\u001b[39m\u001b[23m \u001b[3m\u001b[90m<dbl>\u001b[39m\u001b[23m     \u001b[3m\u001b[90m<dbl>\u001b[39m\u001b[23m   \u001b[3m\u001b[90m<dbl>\u001b[39m\u001b[23m\n",
      "\u001b[90m1\u001b[39m Test    meanDV Immediate Delayed    30    30     -\u001b[31m1\u001b[39m\u001b[31m.\u001b[39m\u001b[31m12\u001b[39m    29 0.271     2.71\u001b[90me\u001b[39m\u001b[31m-1\u001b[39m\n",
      "\u001b[90m2\u001b[39m Restudy meanDV Immediate Delayed    30    30      5.15    29 0.000\u001b[4m0\u001b[24m\u001b[4m1\u001b[24m\u001b[4m6\u001b[24m5 1.65\u001b[90me\u001b[39m\u001b[31m-5\u001b[39m\n",
      "\u001b[90m# ... with 1 more variable: p.adj.signif <chr>\u001b[39m\n",
      "\n",
      "\n",
      "-----------------------------------------------\n",
      "\n",
      "Pairwise comparisons grouped by Factor 2\n",
      "\u001b[90m# A tibble: 2 x 11\u001b[39m\n",
      "  Fc2       .y.    group1 group2     n1    n2 statistic    df         p    p.adj\n",
      "\u001b[90m*\u001b[39m \u001b[3m\u001b[90m<fct>\u001b[39m\u001b[23m     \u001b[3m\u001b[90m<chr>\u001b[39m\u001b[23m  \u001b[3m\u001b[90m<chr>\u001b[39m\u001b[23m  \u001b[3m\u001b[90m<chr>\u001b[39m\u001b[23m   \u001b[3m\u001b[90m<int>\u001b[39m\u001b[23m \u001b[3m\u001b[90m<int>\u001b[39m\u001b[23m     \u001b[3m\u001b[90m<dbl>\u001b[39m\u001b[23m \u001b[3m\u001b[90m<dbl>\u001b[39m\u001b[23m     \u001b[3m\u001b[90m<dbl>\u001b[39m\u001b[23m    \u001b[3m\u001b[90m<dbl>\u001b[39m\u001b[23m\n",
      "\u001b[90m1\u001b[39m Immediate meanDV Test   Restudy    30    30    -\u001b[31m0\u001b[39m\u001b[31m.\u001b[39m\u001b[31m870\u001b[39m    29 0.392      3.92\u001b[90me\u001b[39m\u001b[31m-1\u001b[39m\n",
      "\u001b[90m2\u001b[39m Delayed   meanDV Test   Restudy    30    30     5.17     29 0.000\u001b[4m0\u001b[24m\u001b[4m1\u001b[24m\u001b[4m5\u001b[24m9  1.59\u001b[90me\u001b[39m\u001b[31m-5\u001b[39m\n",
      "\u001b[90m# ... with 1 more variable: p.adj.signif <chr>\u001b[39m\n"
     ]
    }
   ],
   "source": [
    "results <- rm_2by2_anova(study_dataset, columns, param)"
   ]
  },
  {
   "cell_type": "markdown",
   "metadata": {},
   "source": [
    "### Assumption check plots"
   ]
  },
  {
   "cell_type": "code",
   "execution_count": 26,
   "metadata": {},
   "outputs": [
    {
     "data": {
      "image/png": "[encoded data removed]",
      "text/plain": [
       "plot without title"
      ]
     },
     "metadata": {
      "image/png": {
       "height": 500,
       "width": 1000
      }
     },
     "output_type": "display_data"
    }
   ],
   "source": [
    "options(repr.plot.width = 10, repr.plot.height = 5, repr.plot.res = 200) # change plot size\n",
    "\n",
    "results$plot.assumption.checks"
   ]
  },
  {
   "cell_type": "markdown",
   "metadata": {},
   "source": [
    "### Results plot (with extras)"
   ]
  },
  {
   "cell_type": "code",
   "execution_count": 27,
   "metadata": {},
   "outputs": [
    {
     "data": {
      "image/png": "[encoded data removed]",
      "text/plain": [
       "plot without title"
      ]
     },
     "metadata": {
      "image/png": {
       "height": 600,
       "width": 700
      }
     },
     "output_type": "display_data"
    }
   ],
   "source": [
    "options(repr.plot.width = 7, repr.plot.height = 6, repr.plot.res = 200) # change plot size\n",
    "# Adding post-hoc comparison stars\n",
    "# Prepare the values\n",
    "\n",
    "# post-hoc pairwise comparisons for each Fc1 level between the Fc2 levels\n",
    "p.Fc1.L1 <-\n",
    "  ifelse(results$pwc1$p[1] < 0.05, stars.pval(results$pwc1$p[1]), \"n.s.\")\n",
    "p.Fc1.L2 <-\n",
    "  ifelse(results$pwc1$p[2] < 0.05, stars.pval(results$pwc1$p[2]), \"n.s.\")\n",
    "\n",
    "results$plot.anova +\n",
    "  \n",
    "  # Add post-hoc pairwise comparisons\n",
    "  # might need to adjust the x and y positions\n",
    "  annotate(\n",
    "    \"text\",\n",
    "    x = 1.5,\n",
    "    y = 86,\n",
    "    label = p.Fc1.L1,\n",
    "    color = param$cat.color[1],\n",
    "    size = 8\n",
    "  ) +\n",
    "  annotate(\n",
    "    \"text\",\n",
    "    x = 1.5,\n",
    "    y = 72,\n",
    "    label = p.Fc1.L2,\n",
    "    color = param$cat.color[2],\n",
    "    size = 8\n",
    "  ) +\n",
    "  \n",
    "  # add individual datapoints\n",
    "  geom_point(\n",
    "    colour = \"black\",\n",
    "    alpha = .3,\n",
    "    aes(fill = Fc1),\n",
    "    size = 2,\n",
    "    stroke = 0.5,\n",
    "    shape = 21,\n",
    "    position = position_jitterdodge(),\n",
    "    show.legend = FALSE\n",
    "  ) "
   ]
  },
  {
   "cell_type": "markdown",
   "metadata": {},
   "source": [
    "## Example 4: Test on another dataset"
   ]
  },
  {
   "cell_type": "markdown",
   "metadata": {},
   "source": [
    "Here I test the function on kepress learning by observation dataset. This is my dataset published in https://doi.org/10.1523/JNEUROSCI.1597-18.2018"
   ]
  },
  {
   "cell_type": "markdown",
   "metadata": {},
   "source": [
    "### Load the data"
   ]
  },
  {
   "cell_type": "code",
   "execution_count": 28,
   "metadata": {},
   "outputs": [
    {
     "data": {
      "text/html": [
       "<table class=\"dataframe\">\n",
       "<caption>A data.frame: 6 × 8</caption>\n",
       "<thead>\n",
       "\t<tr><th></th><th scope=col>sID</th><th scope=col>gender</th><th scope=col>age</th><th scope=col>righthanded</th><th scope=col>Time</th><th scope=col>Type</th><th scope=col>ET</th><th scope=col>Err</th></tr>\n",
       "\t<tr><th></th><th scope=col>&lt;int&gt;</th><th scope=col>&lt;chr&gt;</th><th scope=col>&lt;int&gt;</th><th scope=col>&lt;chr&gt;</th><th scope=col>&lt;chr&gt;</th><th scope=col>&lt;fct&gt;</th><th scope=col>&lt;dbl&gt;</th><th scope=col>&lt;int&gt;</th></tr>\n",
       "</thead>\n",
       "<tbody>\n",
       "\t<tr><th scope=row>1</th><td>2</td><td>m</td><td>23</td><td>yes</td><td>Pre</td><td>Trained</td><td>1195.40</td><td>20</td></tr>\n",
       "\t<tr><th scope=row>2</th><td>3</td><td>m</td><td>26</td><td>yes</td><td>Pre</td><td>Trained</td><td>1681.00</td><td>30</td></tr>\n",
       "\t<tr><th scope=row>3</th><td>5</td><td>f</td><td>20</td><td>yes</td><td>Pre</td><td>Trained</td><td>1427.20</td><td> 0</td></tr>\n",
       "\t<tr><th scope=row>4</th><td>6</td><td>f</td><td>21</td><td>yes</td><td>Pre</td><td>Trained</td><td>1798.30</td><td> 5</td></tr>\n",
       "\t<tr><th scope=row>5</th><td>7</td><td>m</td><td>27</td><td>yes</td><td>Pre</td><td>Trained</td><td> 904.36</td><td> 0</td></tr>\n",
       "\t<tr><th scope=row>6</th><td>8</td><td>m</td><td>40</td><td>yes</td><td>Pre</td><td>Trained</td><td> 504.40</td><td>20</td></tr>\n",
       "</tbody>\n",
       "</table>\n"
      ],
      "text/latex": [
       "A data.frame: 6 × 8\n",
       "\\begin{tabular}{r|llllllll}\n",
       "  & sID & gender & age & righthanded & Time & Type & ET & Err\\\\\n",
       "  & <int> & <chr> & <int> & <chr> & <chr> & <fct> & <dbl> & <int>\\\\\n",
       "\\hline\n",
       "\t1 & 2 & m & 23 & yes & Pre & Trained & 1195.40 & 20\\\\\n",
       "\t2 & 3 & m & 26 & yes & Pre & Trained & 1681.00 & 30\\\\\n",
       "\t3 & 5 & f & 20 & yes & Pre & Trained & 1427.20 &  0\\\\\n",
       "\t4 & 6 & f & 21 & yes & Pre & Trained & 1798.30 &  5\\\\\n",
       "\t5 & 7 & m & 27 & yes & Pre & Trained &  904.36 &  0\\\\\n",
       "\t6 & 8 & m & 40 & yes & Pre & Trained &  504.40 & 20\\\\\n",
       "\\end{tabular}\n"
      ],
      "text/markdown": [
       "\n",
       "A data.frame: 6 × 8\n",
       "\n",
       "| <!--/--> | sID &lt;int&gt; | gender &lt;chr&gt; | age &lt;int&gt; | righthanded &lt;chr&gt; | Time &lt;chr&gt; | Type &lt;fct&gt; | ET &lt;dbl&gt; | Err &lt;int&gt; |\n",
       "|---|---|---|---|---|---|---|---|---|\n",
       "| 1 | 2 | m | 23 | yes | Pre | Trained | 1195.40 | 20 |\n",
       "| 2 | 3 | m | 26 | yes | Pre | Trained | 1681.00 | 30 |\n",
       "| 3 | 5 | f | 20 | yes | Pre | Trained | 1427.20 |  0 |\n",
       "| 4 | 6 | f | 21 | yes | Pre | Trained | 1798.30 |  5 |\n",
       "| 5 | 7 | m | 27 | yes | Pre | Trained |  904.36 |  0 |\n",
       "| 6 | 8 | m | 40 | yes | Pre | Trained |  504.40 | 20 |\n",
       "\n"
      ],
      "text/plain": [
       "  sID gender age righthanded Time Type    ET      Err\n",
       "1 2   m      23  yes         Pre  Trained 1195.40 20 \n",
       "2 3   m      26  yes         Pre  Trained 1681.00 30 \n",
       "3 5   f      20  yes         Pre  Trained 1427.20  0 \n",
       "4 6   f      21  yes         Pre  Trained 1798.30  5 \n",
       "5 7   m      27  yes         Pre  Trained  904.36  0 \n",
       "6 8   m      40  yes         Pre  Trained  504.40 20 "
      ]
     },
     "metadata": {},
     "output_type": "display_data"
    }
   ],
   "source": [
    "dataOL <- \n",
    "  read.csv(\"https://raw.githubusercontent.com/dcdace/E2fMRI_MVPA_PPI/master/Data/BehaviouralResults_longformat.csv\")\n",
    "\n",
    "# Change the Type levels to better reflect the data content\n",
    "dataOL$Type <- factor(dataOL$Type,\n",
    "                               levels = c(\"TR\", \"UN\"),\n",
    "                               labels = c(\"Trained\", \"Untrained\"))\n",
    "\n",
    "head(dataOL)\n"
   ]
  },
  {
   "cell_type": "markdown",
   "metadata": {},
   "source": [
    "### Specify parameters"
   ]
  },
  {
   "cell_type": "code",
   "execution_count": 29,
   "metadata": {},
   "outputs": [],
   "source": [
    "# ----------------------------------------------------------------------\n",
    "# Specify items and parameters\n",
    "# ----------------------------------------------------------------------\n",
    "\n",
    "# From the dataset, specify subject ID, Dependent Variable, and 2 within-subject Factors \n",
    "columns <- list(\n",
    "  sID = \"sID\",\n",
    "  DV  = \"ET\",\n",
    "  Fc1 = \"Type\",\n",
    "  Fc2 = \"Time\"\n",
    ")\n",
    "# Define plot label names, tilte, colors and what type of error bars to show on the plot\n",
    "param <- list(\n",
    "  y.label    = \"Execution Time (ms)\",\n",
    "  Fc1.label  = \"Type\",\n",
    "  Fc2.label  = \"Time\",\n",
    "  cat.color  = c('#df4a56', '#0272c6'),\n",
    "  errorbar   = \"ci\"  # can be either sd, se, or ci\n",
    ")\n",
    "# the plot title\n",
    "param$title <- sprintf(\"%s x %s interaction\", param$Fc2.label, param$Fc1.label)"
   ]
  },
  {
   "cell_type": "markdown",
   "metadata": {},
   "source": [
    "### Run the function"
   ]
  },
  {
   "cell_type": "code",
   "execution_count": 30,
   "metadata": {},
   "outputs": [
    {
     "name": "stdout",
     "output_type": "stream",
     "text": [
      "================================================================\n",
      "\n",
      "CHECK ASSUMPTIONS\n",
      "\n",
      "================================================================\n",
      " Outliers\n",
      "\n",
      "\u001b[90m# A tibble: 7 x 6\u001b[39m\n",
      "  Fc1       Fc2   sID   meanDV is.outlier is.extreme\n",
      "  \u001b[3m\u001b[90m<fct>\u001b[39m\u001b[23m     \u001b[3m\u001b[90m<fct>\u001b[39m\u001b[23m \u001b[3m\u001b[90m<fct>\u001b[39m\u001b[23m  \u001b[3m\u001b[90m<dbl>\u001b[39m\u001b[23m \u001b[3m\u001b[90m<lgl>\u001b[39m\u001b[23m      \u001b[3m\u001b[90m<lgl>\u001b[39m\u001b[23m     \n",
      "\u001b[90m1\u001b[39m Trained   Post  19     \u001b[4m2\u001b[24m444. TRUE       FALSE     \n",
      "\u001b[90m2\u001b[39m Trained   Pre   17     \u001b[4m3\u001b[24m676. TRUE       FALSE     \n",
      "\u001b[90m3\u001b[39m Untrained Post  8       463. TRUE       FALSE     \n",
      "\u001b[90m4\u001b[39m Untrained Post  17     \u001b[4m2\u001b[24m551. TRUE       FALSE     \n",
      "\u001b[90m5\u001b[39m Untrained Post  19     \u001b[4m2\u001b[24m719. TRUE       FALSE     \n",
      "\u001b[90m6\u001b[39m Untrained Pre   17     \u001b[4m3\u001b[24m992  TRUE       FALSE     \n",
      "\u001b[90m7\u001b[39m Untrained Pre   19     \u001b[4m3\u001b[24m529. TRUE       FALSE     \n",
      "\n",
      "There are no extreme outliers.\n",
      "\n",
      "-----------------------------------------------\n",
      " Normality \n",
      "\n",
      "\u001b[90m# A tibble: 4 x 5\u001b[39m\n",
      "  Fc1       Fc2   variable statistic      p\n",
      "  \u001b[3m\u001b[90m<fct>\u001b[39m\u001b[23m     \u001b[3m\u001b[90m<fct>\u001b[39m\u001b[23m \u001b[3m\u001b[90m<chr>\u001b[39m\u001b[23m        \u001b[3m\u001b[90m<dbl>\u001b[39m\u001b[23m  \u001b[3m\u001b[90m<dbl>\u001b[39m\u001b[23m\n",
      "\u001b[90m1\u001b[39m Trained   Post  meanDV       0.957 0.602 \n",
      "\u001b[90m2\u001b[39m Trained   Pre   meanDV       0.917 0.150 \n",
      "\u001b[90m3\u001b[39m Untrained Post  meanDV       0.919 0.164 \n",
      "\u001b[90m4\u001b[39m Untrained Pre   meanDV       0.902 0.086\u001b[4m9\u001b[24m\n",
      "\n",
      "All levels are normally distributed.\n",
      "\n",
      "================================================================\n",
      "\n",
      "SUMMARY DESCRIPTIVES\n",
      "\n",
      "================================================================\n",
      "        Fc1  Fc2  N   meanDV       sd       se       ci\n",
      "1   Trained Post 16 1338.271 266.3100 66.57749 141.9066\n",
      "2   Trained  Pre 16 1865.416 265.2562 66.31405 141.3450\n",
      "3 Untrained Post 16 1463.746 213.3426 53.33564 113.6822\n",
      "4 Untrained  Pre 16 1900.056 328.3329 82.08324 174.9563\n",
      "\n",
      "================================================================\n",
      "\n",
      "2x2 INTERACTION RESULTS\n",
      "\n",
      "================================================================\n",
      "\n",
      "Error: sID\n",
      "          Df   Sum Sq Mean Sq F value Pr(>F)\n",
      "Residuals 15 28566155 1904410               \n",
      "\n",
      "Error: sID:Fc1\n",
      "          Df Sum Sq Mean Sq F value Pr(>F)\n",
      "Fc1        1 102547  102547   1.864  0.192\n",
      "Residuals 15 825140   55009               \n",
      "\n",
      "Error: sID:Fc2\n",
      "          Df  Sum Sq Mean Sq F value   Pr(>F)    \n",
      "Fc2        1 3712982 3712982   25.17 0.000153 ***\n",
      "Residuals 15 2212669  147511                     \n",
      "---\n",
      "Signif. codes:  0 '***' 0.001 '**' 0.01 '*' 0.05 '.' 0.1 ' ' 1\n",
      "\n",
      "Error: sID:Fc1:Fc2\n",
      "          Df Sum Sq Mean Sq F value Pr(>F)\n",
      "Fc1:Fc2    1  33005   33005   1.791  0.201\n",
      "Residuals 15 276434   18429               \n",
      "\n",
      "No significant Time x Type interaction: F(1,15) = 1.79, p = 0.2007469\n",
      "\n",
      "================================================================\n",
      "\n",
      "Main Effects\n",
      "\n",
      "================================================================\n",
      "Main effect of Type: F(1,15) = 1.86, p = 0.1922710\n",
      "\n",
      "\n",
      "-----------------------------------------------\n",
      "Main effect of Time: F(1,15) = 25.17, p = 0.0001532\n",
      "\n",
      "================================================================\n",
      "\n",
      "Post-hoc\n",
      "\n",
      "================================================================\n",
      "\n",
      "Pairwise comparisons grouped by Factor 1\n",
      "\u001b[90m# A tibble: 2 x 11\u001b[39m\n",
      "  Fc1       .y.    group1 group2    n1    n2 statistic    df         p     p.adj\n",
      "\u001b[90m*\u001b[39m \u001b[3m\u001b[90m<fct>\u001b[39m\u001b[23m     \u001b[3m\u001b[90m<chr>\u001b[39m\u001b[23m  \u001b[3m\u001b[90m<chr>\u001b[39m\u001b[23m  \u001b[3m\u001b[90m<chr>\u001b[39m\u001b[23m  \u001b[3m\u001b[90m<int>\u001b[39m\u001b[23m \u001b[3m\u001b[90m<int>\u001b[39m\u001b[23m     \u001b[3m\u001b[90m<dbl>\u001b[39m\u001b[23m \u001b[3m\u001b[90m<dbl>\u001b[39m\u001b[23m     \u001b[3m\u001b[90m<dbl>\u001b[39m\u001b[23m     \u001b[3m\u001b[90m<dbl>\u001b[39m\u001b[23m\n",
      "\u001b[90m1\u001b[39m Trained   meanDV Post   Pre       16    16     -\u001b[31m5\u001b[39m\u001b[31m.\u001b[39m\u001b[31m32\u001b[39m    15 0.000\u001b[4m0\u001b[24m\u001b[4m8\u001b[24m\u001b[4m5\u001b[24m2 0.000\u001b[4m0\u001b[24m\u001b[4m8\u001b[24m\u001b[4m5\u001b[24m2\n",
      "\u001b[90m2\u001b[39m Untrained meanDV Post   Pre       16    16     -\u001b[31m4\u001b[39m\u001b[31m.\u001b[39m\u001b[31m17\u001b[39m    15 0.000\u001b[4m8\u001b[24m\u001b[4m1\u001b[24m\u001b[4m7\u001b[24m  0.000\u001b[4m8\u001b[24m\u001b[4m1\u001b[24m\u001b[4m7\u001b[24m \n",
      "\u001b[90m# ... with 1 more variable: p.adj.signif <chr>\u001b[39m\n",
      "\n",
      "\n",
      "-----------------------------------------------\n",
      "\n",
      "Pairwise comparisons grouped by Factor 2\n",
      "\u001b[90m# A tibble: 2 x 11\u001b[39m\n",
      "  Fc2   .y.   group1 group2    n1    n2 statistic    df     p p.adj p.adj.signif\n",
      "\u001b[90m*\u001b[39m \u001b[3m\u001b[90m<fct>\u001b[39m\u001b[23m \u001b[3m\u001b[90m<chr>\u001b[39m\u001b[23m \u001b[3m\u001b[90m<chr>\u001b[39m\u001b[23m  \u001b[3m\u001b[90m<chr>\u001b[39m\u001b[23m  \u001b[3m\u001b[90m<int>\u001b[39m\u001b[23m \u001b[3m\u001b[90m<int>\u001b[39m\u001b[23m     \u001b[3m\u001b[90m<dbl>\u001b[39m\u001b[23m \u001b[3m\u001b[90m<dbl>\u001b[39m\u001b[23m \u001b[3m\u001b[90m<dbl>\u001b[39m\u001b[23m \u001b[3m\u001b[90m<dbl>\u001b[39m\u001b[23m \u001b[3m\u001b[90m<chr>\u001b[39m\u001b[23m       \n",
      "\u001b[90m1\u001b[39m Post  mean~ Train~ Untra~    16    16    -\u001b[31m3\u001b[39m\u001b[31m.\u001b[39m\u001b[31m0\u001b[39m\u001b[31m5\u001b[39m     15 0.008 0.008 **          \n",
      "\u001b[90m2\u001b[39m Pre   mean~ Train~ Untra~    16    16    -\u001b[31m0\u001b[39m\u001b[31m.\u001b[39m\u001b[31m400\u001b[39m    15 0.694 0.694 ns          \n"
     ]
    }
   ],
   "source": [
    "results <- rm_2by2_anova(dataOL, columns, param)"
   ]
  },
  {
   "cell_type": "markdown",
   "metadata": {},
   "source": [
    "### Assumption check plots"
   ]
  },
  {
   "cell_type": "code",
   "execution_count": 31,
   "metadata": {},
   "outputs": [
    {
     "data": {
      "image/png": "[encoded data removed]",
      "text/plain": [
       "plot without title"
      ]
     },
     "metadata": {
      "image/png": {
       "height": 500,
       "width": 1000
      }
     },
     "output_type": "display_data"
    }
   ],
   "source": [
    "options(repr.plot.width = 10, repr.plot.height = 5, repr.plot.res = 200) # change plot size\n",
    "\n",
    "results$plot.assumption.checks"
   ]
  },
  {
   "cell_type": "markdown",
   "metadata": {},
   "source": [
    "### Results plot (with extras)"
   ]
  },
  {
   "cell_type": "code",
   "execution_count": 32,
   "metadata": {},
   "outputs": [
    {
     "data": {
      "image/png": "[encoded data removed]",
      "text/plain": [
       "plot without title"
      ]
     },
     "metadata": {
      "image/png": {
       "height": 600,
       "width": 700
      }
     },
     "output_type": "display_data"
    }
   ],
   "source": [
    "options(repr.plot.width = 7, repr.plot.height = 6, repr.plot.res = 200) # change plot size\n",
    "# Adding post-hoc comparison stars\n",
    "# Prepare the values\n",
    "\n",
    "# post-hoc pairwise comparisons for each Fc1 level between the Fc2 levels\n",
    "p.Fc1.L1 <-\n",
    "  ifelse(results$pwc1$p[1] < 0.05, stars.pval(results$pwc1$p[1]), \"n.s.\")\n",
    "p.Fc1.L2 <-\n",
    "  ifelse(results$pwc1$p[2] < 0.05, stars.pval(results$pwc1$p[2]), \"n.s.\")\n",
    "\n",
    "results$plot.anova +\n",
    "  \n",
    "  # Add post-hoc pairwise comparisons\n",
    "  # might need to adjust the x and y positions\n",
    "  annotate(\n",
    "    \"text\",\n",
    "    x = 1.5,\n",
    "    y = 1400,\n",
    "    label = p.Fc1.L1,\n",
    "    color = param$cat.color[1],\n",
    "    size = 8\n",
    "  ) +\n",
    "  annotate(\n",
    "    \"text\",\n",
    "    x = 1.5,\n",
    "    y = 1800,\n",
    "    label = p.Fc1.L2,\n",
    "    color = param$cat.color[2],\n",
    "    size = 8\n",
    "  ) +\n",
    "  \n",
    "  # add individual datapoints\n",
    "  geom_point(\n",
    "    colour = \"black\",\n",
    "    alpha = .3,\n",
    "    aes(fill = Fc1),\n",
    "    size = 2,\n",
    "    stroke = 0.5,\n",
    "    shape = 21,\n",
    "    position = position_jitterdodge(),\n",
    "    show.legend = FALSE\n",
    "  ) + \n",
    "\n",
    " # Show Pre first (instead of default alfabetical order)\n",
    " scale_x_discrete(limits = c(\"Pre\", \"Post\"))\n"
   ]
  },
  {
   "cell_type": "markdown",
   "metadata": {},
   "source": [
    "## Control what to display"
   ]
  },
  {
   "cell_type": "markdown",
   "metadata": {},
   "source": [
    "By default, the function outputs a lot of results. If you don't want do display the output, you can 'hush' (suppress) it with a 'hush' function. "
   ]
  },
  {
   "cell_type": "markdown",
   "metadata": {},
   "source": [
    "### The 'hush' function"
   ]
  },
  {
   "cell_type": "code",
   "execution_count": 33,
   "metadata": {},
   "outputs": [],
   "source": [
    "# hush function\n",
    "# I got it from here https://stackoverflow.com/questions/2723034/suppress-output-of-a-function \n",
    "\n",
    "hush <- function(code){\n",
    "  sink(\"NUL\") # use /dev/null in UNIX\n",
    "  tmp = code\n",
    "  sink()\n",
    "  return(tmp)\n",
    "}"
   ]
  },
  {
   "cell_type": "markdown",
   "metadata": {},
   "source": [
    "### Run the function without any output"
   ]
  },
  {
   "cell_type": "code",
   "execution_count": 34,
   "metadata": {},
   "outputs": [],
   "source": [
    "results <- hush(rm_2by2_anova(dataOL, columns, param))"
   ]
  },
  {
   "cell_type": "markdown",
   "metadata": {},
   "source": [
    "### Choose what to output"
   ]
  },
  {
   "cell_type": "markdown",
   "metadata": {},
   "source": [
    "Below is the list of possible output elements. "
   ]
  },
  {
   "cell_type": "code",
   "execution_count": 35,
   "metadata": {},
   "outputs": [],
   "source": [
    "# results$outliers               # results of identify_outliers function\n",
    "# results$normality              # results of shapiro_test\n",
    "# results$plot.assumption.checks # boxplots and QQ plots in one plot\n",
    "# results$dataSummary            # Within-Subject descriptive summary of all 4 levels\n",
    "# results$res.anova              # ANOVA results of aov function\n",
    "# results$one.way1               # Factor 1 Main effect results of anova_test function \n",
    "# results$one.way2               # Factor 2 Main effect results of anova_test function \n",
    "# results$pwc1                   # Pairwise comparisons grouped by Factor 1\n",
    "# results$pwc2                   # Pairwise comparisons grouped by Factor 2\n",
    "# results$plot.anova             # the results plot"
   ]
  },
  {
   "cell_type": "code",
   "execution_count": 36,
   "metadata": {},
   "outputs": [
    {
     "data": {
      "text/plain": [
       "\n",
       "Error: sID\n",
       "          Df   Sum Sq Mean Sq F value Pr(>F)\n",
       "Residuals 15 28566155 1904410               \n",
       "\n",
       "Error: sID:Fc1\n",
       "          Df Sum Sq Mean Sq F value Pr(>F)\n",
       "Fc1        1 102547  102547   1.864  0.192\n",
       "Residuals 15 825140   55009               \n",
       "\n",
       "Error: sID:Fc2\n",
       "          Df  Sum Sq Mean Sq F value   Pr(>F)    \n",
       "Fc2        1 3712982 3712982   25.17 0.000153 ***\n",
       "Residuals 15 2212669  147511                     \n",
       "---\n",
       "Signif. codes:  0 '***' 0.001 '**' 0.01 '*' 0.05 '.' 0.1 ' ' 1\n",
       "\n",
       "Error: sID:Fc1:Fc2\n",
       "          Df Sum Sq Mean Sq F value Pr(>F)\n",
       "Fc1:Fc2    1  33005   33005   1.791  0.201\n",
       "Residuals 15 276434   18429               "
      ]
     },
     "metadata": {},
     "output_type": "display_data"
    }
   ],
   "source": [
    "# for example, output ANOVA summary results\n",
    "summary(results$res.anova)"
   ]
  }
 ],
 "metadata": {
  "kernelspec": {
   "display_name": "R",
   "language": "R",
   "name": "ir"
  },
  "language_info": {
   "codemirror_mode": "r",
   "file_extension": ".r",
   "mimetype": "text/x-r-source",
   "name": "R",
   "pygments_lexer": "r",
   "version": "4.0.3"
  },
  "toc": {
   "base_numbering": 1,
   "nav_menu": {},
   "number_sections": true,
   "sideBar": true,
   "skip_h1_title": true,
   "title_cell": "Table of Contents",
   "title_sidebar": "Contents",
   "toc_cell": true,
   "toc_position": {
    "height": "calc(100% - 180px)",
    "left": "10px",
    "top": "150px",
    "width": "436.5px"
   },
   "toc_section_display": true,
   "toc_window_display": true
  }
 },
 "nbformat": 4,
 "nbformat_minor": 2
}
