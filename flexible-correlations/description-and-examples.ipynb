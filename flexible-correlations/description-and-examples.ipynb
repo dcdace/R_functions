{
 "cells": [
  {
   "cell_type": "markdown",
   "metadata": {
    "toc": true
   },
   "source": [
    "<h1>Table of Contents<span class=\"tocSkip\"></span></h1>\n",
    "<div class=\"toc\"><ul class=\"toc-item\"><li><span><a href=\"#Which-type-of-correlation-to-use-for-continuous-data?\" data-toc-modified-id=\"Which-type-of-correlation-to-use-for-continuous-data?-1\">Which type of correlation to use for continuous data?</a></span><ul class=\"toc-item\"><li><span><a href=\"#xx\" data-toc-modified-id=\"xx-1.1\">xx</a></span></li></ul></li></ul></div>"
   ]
  },
  {
   "cell_type": "markdown",
   "metadata": {},
   "source": [
    "# Which type of correlation to use for continuous data?"
   ]
  },
  {
   "cell_type": "markdown",
   "metadata": {},
   "source": [
    "## xx"
   ]
  },
  {
   "cell_type": "markdown",
   "metadata": {},
   "source": [
    "Which type of correlation to use for my continuous data: Pearson's, Spearman, or Band?\n",
    "\n",
    "Pearson's correlation is the most popular for continuos data. However, if there are outliers or if any of the two wariables is not normally distributed, Perarson's correlation is not appropriate. \n",
    "Spareman's correlation is more robust to outliers than is Pearson's correlation.\n",
    "\n",
    "Which type of correlation should I use, Pearson's, Spearman, or Band? \n",
    "Should I do Pearson's correlation, Bend, or Spareman? How to decide? Doing a so called 'robust correlation' is not always the right choice. The 'right' choice depends on the data. Specifically, is the data is nornally distributes and does it have outliers. \n",
    "In this script I impelemt 3 simple rules of thumb:\n",
    "* Normally distributed and no outliers -> **Pearson's correlation**\n",
    "* Bi-variate outliers - **Spearman skipped correlation**, using the minimum covariance determinant (MCD) estimator\n",
    "* No bivariate-outliers but is not normally distributed or has univariate outliers - **Percentage bend correlation** (20%)\n",
    "\n",
    "`get_outliers` function checks for outliers in the data. It uses `boxplot` method to check for univariate outliers and `bagplot` method to check for bi-variate outliers. \n",
    "\n",
    "`do_correlation` function performes one of the three correlation methods. It uses the nuber of univariate and bi-variate outliers obtained from the get_outlier function. It perfomes `Shapiro test` to determin wether the data is normally distributed.\n",
    "\n",
    "`plot-correlation` xx\n"
   ]
  },
  {
   "cell_type": "code",
   "execution_count": null,
   "metadata": {},
   "outputs": [],
   "source": []
  }
 ],
 "metadata": {
  "kernelspec": {
   "display_name": "R",
   "language": "R",
   "name": "ir"
  },
  "language_info": {
   "codemirror_mode": "r",
   "file_extension": ".r",
   "mimetype": "text/x-r-source",
   "name": "R",
   "pygments_lexer": "r",
   "version": "4.0.0"
  },
  "toc": {
   "base_numbering": 1,
   "nav_menu": {},
   "number_sections": false,
   "sideBar": true,
   "skip_h1_title": false,
   "title_cell": "Table of Contents",
   "title_sidebar": "Contents",
   "toc_cell": true,
   "toc_position": {
    "height": "calc(100% - 180px)",
    "left": "10px",
    "top": "150px",
    "width": "165px"
   },
   "toc_section_display": true,
   "toc_window_display": true
  }
 },
 "nbformat": 4,
 "nbformat_minor": 2
}
